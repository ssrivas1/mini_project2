{
  "cells": [
    {
      "cell_type": "markdown",
      "id": "2486b798",
      "metadata": {
        "id": "2486b798"
      },
      "source": [
        "# Mini Project - Team John Doe"
      ]
    },
    {
      "cell_type": "code",
      "source": [
        "pip install pyspark"
      ],
      "metadata": {
        "colab": {
          "base_uri": "https://localhost:8080/"
        },
        "id": "51flsE2LrjMO",
        "outputId": "dc05d68b-26b0-4262-9976-052a66354d3a"
      },
      "id": "51flsE2LrjMO",
      "execution_count": 3,
      "outputs": [
        {
          "output_type": "stream",
          "name": "stdout",
          "text": [
            "Looking in indexes: https://pypi.org/simple, https://us-python.pkg.dev/colab-wheels/public/simple/\n",
            "Collecting pyspark\n",
            "  Downloading pyspark-3.3.1.tar.gz (281.4 MB)\n",
            "\u001b[K     |████████████████████████████████| 281.4 MB 43 kB/s \n",
            "\u001b[?25hCollecting py4j==0.10.9.5\n",
            "  Downloading py4j-0.10.9.5-py2.py3-none-any.whl (199 kB)\n",
            "\u001b[K     |████████████████████████████████| 199 kB 59.6 MB/s \n",
            "\u001b[?25hBuilding wheels for collected packages: pyspark\n",
            "  Building wheel for pyspark (setup.py) ... \u001b[?25l\u001b[?25hdone\n",
            "  Created wheel for pyspark: filename=pyspark-3.3.1-py2.py3-none-any.whl size=281845514 sha256=033adb98f291f3b90af777b54e299dd2c9ce615dd4626fb807257777eaf475db\n",
            "  Stored in directory: /root/.cache/pip/wheels/42/59/f5/79a5bf931714dcd201b26025347785f087370a10a3329a899c\n",
            "Successfully built pyspark\n",
            "Installing collected packages: py4j, pyspark\n",
            "Successfully installed py4j-0.10.9.5 pyspark-3.3.1\n"
          ]
        }
      ]
    },
    {
      "cell_type": "code",
      "source": [
        "pip install findspark"
      ],
      "metadata": {
        "colab": {
          "base_uri": "https://localhost:8080/"
        },
        "id": "Z_DdeA_Pr1ab",
        "outputId": "7f12b159-a819-4e3a-debf-71fc521d67f2"
      },
      "id": "Z_DdeA_Pr1ab",
      "execution_count": 5,
      "outputs": [
        {
          "output_type": "stream",
          "name": "stdout",
          "text": [
            "Looking in indexes: https://pypi.org/simple, https://us-python.pkg.dev/colab-wheels/public/simple/\n",
            "Collecting findspark\n",
            "  Downloading findspark-2.0.1-py2.py3-none-any.whl (4.4 kB)\n",
            "Installing collected packages: findspark\n",
            "Successfully installed findspark-2.0.1\n"
          ]
        }
      ]
    },
    {
      "cell_type": "code",
      "execution_count": 153,
      "id": "eabefc60",
      "metadata": {
        "id": "eabefc60"
      },
      "outputs": [],
      "source": [
        "import findspark\n",
        "findspark.init()"
      ]
    },
    {
      "cell_type": "code",
      "execution_count": 154,
      "id": "f021147a",
      "metadata": {
        "id": "f021147a"
      },
      "outputs": [],
      "source": [
        "from pyspark.sql import SparkSession\n",
        "from pyspark.conf import SparkConf\n",
        "from pyspark.sql.types import * \n",
        "import pyspark.sql.functions as F\n",
        "from pyspark.sql.functions import col, asc,desc\n",
        "import matplotlib.pyplot as plt\n",
        "import numpy as np\n",
        "import seaborn as sns\n",
        "from pyspark.sql import SQLContext\n",
        "from pyspark.mllib.stat import Statistics\n",
        "import pandas as pd\n",
        "from pyspark.sql.functions import udf\n",
        "from pyspark.ml.feature import OneHotEncoder, StringIndexer, VectorAssembler,StandardScaler\n",
        "from pyspark.ml import Pipeline\n",
        "from sklearn.metrics import confusion_matrix\n",
        "\n",
        "spark=SparkSession.builder \\\n",
        ".master (\"local[*]\")\\\n",
        ".appName(\"part3\")\\\n",
        ".getOrCreate()"
      ]
    },
    {
      "cell_type": "code",
      "source": [
        "from google.colab import drive\n",
        "drive.mount('/content/drive')"
      ],
      "metadata": {
        "colab": {
          "base_uri": "https://localhost:8080/"
        },
        "id": "vYT_HummrdgC",
        "outputId": "8adcad4d-3e77-493f-bf31-d88c680185f2"
      },
      "id": "vYT_HummrdgC",
      "execution_count": 155,
      "outputs": [
        {
          "output_type": "stream",
          "name": "stdout",
          "text": [
            "Drive already mounted at /content/drive; to attempt to forcibly remount, call drive.mount(\"/content/drive\", force_remount=True).\n"
          ]
        }
      ]
    },
    {
      "cell_type": "code",
      "execution_count": 156,
      "id": "7456f4b1",
      "metadata": {
        "colab": {
          "base_uri": "https://localhost:8080/"
        },
        "id": "7456f4b1",
        "outputId": "8b254f0c-b7b3-475d-98e0-a6062c0541f3"
      },
      "outputs": [
        {
          "output_type": "stream",
          "name": "stderr",
          "text": [
            "/usr/local/lib/python3.7/dist-packages/pyspark/sql/context.py:114: FutureWarning: Deprecated in 3.0.0. Use SparkSession.builder.getOrCreate() instead.\n",
            "  FutureWarning,\n"
          ]
        }
      ],
      "source": [
        "sc=spark.sparkContext\n",
        "sqlContext=SQLContext(sc)"
      ]
    },
    {
      "cell_type": "code",
      "execution_count": 157,
      "id": "9bfbcbb5",
      "metadata": {
        "colab": {
          "base_uri": "https://localhost:8080/",
          "height": 35
        },
        "id": "9bfbcbb5",
        "outputId": "2f99731c-735b-4e44-db57-4e4cafec803f"
      },
      "outputs": [
        {
          "output_type": "execute_result",
          "data": {
            "text/plain": [
              "'/content'"
            ],
            "application/vnd.google.colaboratory.intrinsic+json": {
              "type": "string"
            }
          },
          "metadata": {},
          "execution_count": 157
        }
      ],
      "source": [
        "import os\n",
        "os.getcwd()"
      ]
    },
    {
      "cell_type": "code",
      "execution_count": 158,
      "id": "d150e2f8",
      "metadata": {
        "colab": {
          "base_uri": "https://localhost:8080/"
        },
        "id": "d150e2f8",
        "outputId": "870b0e4f-8a25-45ae-dc71-08a711b68ee2"
      },
      "outputs": [
        {
          "output_type": "stream",
          "name": "stdout",
          "text": [
            "There are 41188 rows 21 columns in the data.\n"
          ]
        }
      ],
      "source": [
        "# Read data\n",
        "df=spark.read \\\n",
        " .option(\"header\",\"True\")\\\n",
        " .option(\"inferSchema\",\"True\")\\\n",
        " .option(\"sep\",\",\")\\\n",
        " .csv(\"/content/drive/MyDrive/Mini Project 2/XYZ_Bank_Deposit_Data_Classification.csv\", sep=';')\n",
        "print(\"There are\",df.count(),\"rows\",len(df.columns),\n",
        "      \"columns\" ,\"in the data.\") "
      ]
    },
    {
      "cell_type": "code",
      "execution_count": 159,
      "id": "5c11c3b7",
      "metadata": {
        "colab": {
          "base_uri": "https://localhost:8080/"
        },
        "id": "5c11c3b7",
        "outputId": "ed588499-2a34-45c8-d744-3643c9170167"
      },
      "outputs": [
        {
          "output_type": "stream",
          "name": "stdout",
          "text": [
            "+---+---------+-------+-----------+-------+-------+----+---------+-----+-----------+--------+--------+-----+--------+-----------+------------+--------------+-------------+---------+-----------+---+\n",
            "|age|      job|marital|  education|default|housing|loan|  contact|month|day_of_week|duration|campaign|pdays|previous|   poutcome|emp.var.rate|cons.price.idx|cons.conf.idx|euribor3m|nr.employed|  y|\n",
            "+---+---------+-------+-----------+-------+-------+----+---------+-----+-----------+--------+--------+-----+--------+-----------+------------+--------------+-------------+---------+-----------+---+\n",
            "| 56|housemaid|married|   basic.4y|     no|     no|  no|telephone|  may|        mon|     261|       1|  999|       0|nonexistent|         1.1|        93.994|        -36.4|    4.857|     5191.0| no|\n",
            "| 57| services|married|high.school|unknown|     no|  no|telephone|  may|        mon|     149|       1|  999|       0|nonexistent|         1.1|        93.994|        -36.4|    4.857|     5191.0| no|\n",
            "| 37| services|married|high.school|     no|    yes|  no|telephone|  may|        mon|     226|       1|  999|       0|nonexistent|         1.1|        93.994|        -36.4|    4.857|     5191.0| no|\n",
            "| 40|   admin.|married|   basic.6y|     no|     no|  no|telephone|  may|        mon|     151|       1|  999|       0|nonexistent|         1.1|        93.994|        -36.4|    4.857|     5191.0| no|\n",
            "| 56| services|married|high.school|     no|     no| yes|telephone|  may|        mon|     307|       1|  999|       0|nonexistent|         1.1|        93.994|        -36.4|    4.857|     5191.0| no|\n",
            "+---+---------+-------+-----------+-------+-------+----+---------+-----+-----------+--------+--------+-----+--------+-----------+------------+--------------+-------------+---------+-----------+---+\n",
            "only showing top 5 rows\n",
            "\n"
          ]
        }
      ],
      "source": [
        "# Show sample data\n",
        "df.show(5)"
      ]
    },
    {
      "cell_type": "code",
      "execution_count": 160,
      "id": "511a3d04",
      "metadata": {
        "colab": {
          "base_uri": "https://localhost:8080/"
        },
        "id": "511a3d04",
        "outputId": "59ae5ef6-4ec1-4040-a6bd-bf5dfdd170b8"
      },
      "outputs": [
        {
          "output_type": "stream",
          "name": "stdout",
          "text": [
            "root\n",
            " |-- age: integer (nullable = true)\n",
            " |-- job: string (nullable = true)\n",
            " |-- marital: string (nullable = true)\n",
            " |-- education: string (nullable = true)\n",
            " |-- default: string (nullable = true)\n",
            " |-- housing: string (nullable = true)\n",
            " |-- loan: string (nullable = true)\n",
            " |-- contact: string (nullable = true)\n",
            " |-- month: string (nullable = true)\n",
            " |-- day_of_week: string (nullable = true)\n",
            " |-- duration: integer (nullable = true)\n",
            " |-- campaign: integer (nullable = true)\n",
            " |-- pdays: integer (nullable = true)\n",
            " |-- previous: integer (nullable = true)\n",
            " |-- poutcome: string (nullable = true)\n",
            " |-- emp.var.rate: double (nullable = true)\n",
            " |-- cons.price.idx: double (nullable = true)\n",
            " |-- cons.conf.idx: double (nullable = true)\n",
            " |-- euribor3m: double (nullable = true)\n",
            " |-- nr.employed: double (nullable = true)\n",
            " |-- y: string (nullable = true)\n",
            "\n"
          ]
        }
      ],
      "source": [
        "# Data Types of columns\n",
        "df.printSchema()"
      ]
    },
    {
      "cell_type": "code",
      "execution_count": 161,
      "id": "7fdb51e3",
      "metadata": {
        "id": "7fdb51e3"
      },
      "outputs": [],
      "source": [
        "# Renaming columns so that they can be used easily\n",
        "\n",
        "df = df.withColumnRenamed(\"emp.var.rate\", \"emp_var_rate\")\\\n",
        "        .withColumnRenamed(\"cons.price.idx\", \"cons_price_idx\")\\\n",
        "        .withColumnRenamed(\"cons.conf.idx\", \"cons_conf_idx\")\\\n",
        "        .withColumnRenamed(\"nr.employed\",\"nr_employed\")"
      ]
    },
    {
      "cell_type": "markdown",
      "id": "2dfb8805",
      "metadata": {
        "id": "2dfb8805"
      },
      "source": [
        "## Exploratory Data Analysis"
      ]
    },
    {
      "cell_type": "code",
      "execution_count": 162,
      "id": "111a65be",
      "metadata": {
        "colab": {
          "base_uri": "https://localhost:8080/",
          "height": 708
        },
        "id": "111a65be",
        "outputId": "ad0231a9-ad4b-4909-c843-b8f8821ee057"
      },
      "outputs": [
        {
          "output_type": "execute_result",
          "data": {
            "text/plain": [
              "                0\n",
              "age             0\n",
              "job             0\n",
              "marital         0\n",
              "education       0\n",
              "default         0\n",
              "housing         0\n",
              "loan            0\n",
              "contact         0\n",
              "month           0\n",
              "day_of_week     0\n",
              "duration        0\n",
              "campaign        0\n",
              "pdays           0\n",
              "previous        0\n",
              "poutcome        0\n",
              "emp_var_rate    0\n",
              "cons_price_idx  0\n",
              "cons_conf_idx   0\n",
              "euribor3m       0\n",
              "nr_employed     0\n",
              "y               0"
            ],
            "text/html": [
              "\n",
              "  <div id=\"df-20cc90ee-f9c8-401e-bb05-2f92d94a8983\">\n",
              "    <div class=\"colab-df-container\">\n",
              "      <div>\n",
              "<style scoped>\n",
              "    .dataframe tbody tr th:only-of-type {\n",
              "        vertical-align: middle;\n",
              "    }\n",
              "\n",
              "    .dataframe tbody tr th {\n",
              "        vertical-align: top;\n",
              "    }\n",
              "\n",
              "    .dataframe thead th {\n",
              "        text-align: right;\n",
              "    }\n",
              "</style>\n",
              "<table border=\"1\" class=\"dataframe\">\n",
              "  <thead>\n",
              "    <tr style=\"text-align: right;\">\n",
              "      <th></th>\n",
              "      <th>0</th>\n",
              "    </tr>\n",
              "  </thead>\n",
              "  <tbody>\n",
              "    <tr>\n",
              "      <th>age</th>\n",
              "      <td>0</td>\n",
              "    </tr>\n",
              "    <tr>\n",
              "      <th>job</th>\n",
              "      <td>0</td>\n",
              "    </tr>\n",
              "    <tr>\n",
              "      <th>marital</th>\n",
              "      <td>0</td>\n",
              "    </tr>\n",
              "    <tr>\n",
              "      <th>education</th>\n",
              "      <td>0</td>\n",
              "    </tr>\n",
              "    <tr>\n",
              "      <th>default</th>\n",
              "      <td>0</td>\n",
              "    </tr>\n",
              "    <tr>\n",
              "      <th>housing</th>\n",
              "      <td>0</td>\n",
              "    </tr>\n",
              "    <tr>\n",
              "      <th>loan</th>\n",
              "      <td>0</td>\n",
              "    </tr>\n",
              "    <tr>\n",
              "      <th>contact</th>\n",
              "      <td>0</td>\n",
              "    </tr>\n",
              "    <tr>\n",
              "      <th>month</th>\n",
              "      <td>0</td>\n",
              "    </tr>\n",
              "    <tr>\n",
              "      <th>day_of_week</th>\n",
              "      <td>0</td>\n",
              "    </tr>\n",
              "    <tr>\n",
              "      <th>duration</th>\n",
              "      <td>0</td>\n",
              "    </tr>\n",
              "    <tr>\n",
              "      <th>campaign</th>\n",
              "      <td>0</td>\n",
              "    </tr>\n",
              "    <tr>\n",
              "      <th>pdays</th>\n",
              "      <td>0</td>\n",
              "    </tr>\n",
              "    <tr>\n",
              "      <th>previous</th>\n",
              "      <td>0</td>\n",
              "    </tr>\n",
              "    <tr>\n",
              "      <th>poutcome</th>\n",
              "      <td>0</td>\n",
              "    </tr>\n",
              "    <tr>\n",
              "      <th>emp_var_rate</th>\n",
              "      <td>0</td>\n",
              "    </tr>\n",
              "    <tr>\n",
              "      <th>cons_price_idx</th>\n",
              "      <td>0</td>\n",
              "    </tr>\n",
              "    <tr>\n",
              "      <th>cons_conf_idx</th>\n",
              "      <td>0</td>\n",
              "    </tr>\n",
              "    <tr>\n",
              "      <th>euribor3m</th>\n",
              "      <td>0</td>\n",
              "    </tr>\n",
              "    <tr>\n",
              "      <th>nr_employed</th>\n",
              "      <td>0</td>\n",
              "    </tr>\n",
              "    <tr>\n",
              "      <th>y</th>\n",
              "      <td>0</td>\n",
              "    </tr>\n",
              "  </tbody>\n",
              "</table>\n",
              "</div>\n",
              "      <button class=\"colab-df-convert\" onclick=\"convertToInteractive('df-20cc90ee-f9c8-401e-bb05-2f92d94a8983')\"\n",
              "              title=\"Convert this dataframe to an interactive table.\"\n",
              "              style=\"display:none;\">\n",
              "        \n",
              "  <svg xmlns=\"http://www.w3.org/2000/svg\" height=\"24px\"viewBox=\"0 0 24 24\"\n",
              "       width=\"24px\">\n",
              "    <path d=\"M0 0h24v24H0V0z\" fill=\"none\"/>\n",
              "    <path d=\"M18.56 5.44l.94 2.06.94-2.06 2.06-.94-2.06-.94-.94-2.06-.94 2.06-2.06.94zm-11 1L8.5 8.5l.94-2.06 2.06-.94-2.06-.94L8.5 2.5l-.94 2.06-2.06.94zm10 10l.94 2.06.94-2.06 2.06-.94-2.06-.94-.94-2.06-.94 2.06-2.06.94z\"/><path d=\"M17.41 7.96l-1.37-1.37c-.4-.4-.92-.59-1.43-.59-.52 0-1.04.2-1.43.59L10.3 9.45l-7.72 7.72c-.78.78-.78 2.05 0 2.83L4 21.41c.39.39.9.59 1.41.59.51 0 1.02-.2 1.41-.59l7.78-7.78 2.81-2.81c.8-.78.8-2.07 0-2.86zM5.41 20L4 18.59l7.72-7.72 1.47 1.35L5.41 20z\"/>\n",
              "  </svg>\n",
              "      </button>\n",
              "      \n",
              "  <style>\n",
              "    .colab-df-container {\n",
              "      display:flex;\n",
              "      flex-wrap:wrap;\n",
              "      gap: 12px;\n",
              "    }\n",
              "\n",
              "    .colab-df-convert {\n",
              "      background-color: #E8F0FE;\n",
              "      border: none;\n",
              "      border-radius: 50%;\n",
              "      cursor: pointer;\n",
              "      display: none;\n",
              "      fill: #1967D2;\n",
              "      height: 32px;\n",
              "      padding: 0 0 0 0;\n",
              "      width: 32px;\n",
              "    }\n",
              "\n",
              "    .colab-df-convert:hover {\n",
              "      background-color: #E2EBFA;\n",
              "      box-shadow: 0px 1px 2px rgba(60, 64, 67, 0.3), 0px 1px 3px 1px rgba(60, 64, 67, 0.15);\n",
              "      fill: #174EA6;\n",
              "    }\n",
              "\n",
              "    [theme=dark] .colab-df-convert {\n",
              "      background-color: #3B4455;\n",
              "      fill: #D2E3FC;\n",
              "    }\n",
              "\n",
              "    [theme=dark] .colab-df-convert:hover {\n",
              "      background-color: #434B5C;\n",
              "      box-shadow: 0px 1px 3px 1px rgba(0, 0, 0, 0.15);\n",
              "      filter: drop-shadow(0px 1px 2px rgba(0, 0, 0, 0.3));\n",
              "      fill: #FFFFFF;\n",
              "    }\n",
              "  </style>\n",
              "\n",
              "      <script>\n",
              "        const buttonEl =\n",
              "          document.querySelector('#df-20cc90ee-f9c8-401e-bb05-2f92d94a8983 button.colab-df-convert');\n",
              "        buttonEl.style.display =\n",
              "          google.colab.kernel.accessAllowed ? 'block' : 'none';\n",
              "\n",
              "        async function convertToInteractive(key) {\n",
              "          const element = document.querySelector('#df-20cc90ee-f9c8-401e-bb05-2f92d94a8983');\n",
              "          const dataTable =\n",
              "            await google.colab.kernel.invokeFunction('convertToInteractive',\n",
              "                                                     [key], {});\n",
              "          if (!dataTable) return;\n",
              "\n",
              "          const docLinkHtml = 'Like what you see? Visit the ' +\n",
              "            '<a target=\"_blank\" href=https://colab.research.google.com/notebooks/data_table.ipynb>data table notebook</a>'\n",
              "            + ' to learn more about interactive tables.';\n",
              "          element.innerHTML = '';\n",
              "          dataTable['output_type'] = 'display_data';\n",
              "          await google.colab.output.renderOutput(dataTable, element);\n",
              "          const docLink = document.createElement('div');\n",
              "          docLink.innerHTML = docLinkHtml;\n",
              "          element.appendChild(docLink);\n",
              "        }\n",
              "      </script>\n",
              "    </div>\n",
              "  </div>\n",
              "  "
            ]
          },
          "metadata": {},
          "execution_count": 162
        }
      ],
      "source": [
        "# Checking for Null Values\n",
        "from pyspark.sql.functions import isnan, when, count, col\n",
        "df.select([count(when(isnan(c), c)).alias(c) for c in df.columns]).toPandas().transpose()"
      ]
    },
    {
      "cell_type": "code",
      "execution_count": 163,
      "id": "640cf8e4",
      "metadata": {
        "colab": {
          "base_uri": "https://localhost:8080/",
          "height": 739
        },
        "id": "640cf8e4",
        "outputId": "61cfdeaa-dca0-4176-afaf-2f6f64ed4d34"
      },
      "outputs": [
        {
          "output_type": "execute_result",
          "data": {
            "text/plain": [
              "                    0                    1                   2         3  \\\n",
              "summary         count                 mean              stddev       min   \n",
              "age             41188    40.02406040594348  10.421249980934036        17   \n",
              "job             41188                 None                None    admin.   \n",
              "marital         41188                 None                None  divorced   \n",
              "education       41188                 None                None  basic.4y   \n",
              "default         41188                 None                None        no   \n",
              "housing         41188                 None                None        no   \n",
              "loan            41188                 None                None        no   \n",
              "contact         41188                 None                None  cellular   \n",
              "month           41188                 None                None       apr   \n",
              "day_of_week     41188                 None                None       fri   \n",
              "duration        41188    258.2850101971448    259.279248836465         0   \n",
              "campaign        41188    2.567592502670681   2.770013542902325         1   \n",
              "pdays           41188    962.4754540157328  186.91090734474088         0   \n",
              "previous        41188  0.17296299893172767  0.4949010798392903         0   \n",
              "poutcome        41188                 None                None   failure   \n",
              "emp_var_rate    41188  0.08188550063188142    1.57095974051703      -3.4   \n",
              "cons_price_idx  41188      93.575664368313  0.5788400489540073    92.201   \n",
              "cons_conf_idx   41188  -40.502600271913245    4.62819785617459     -50.8   \n",
              "euribor3m       41188    3.621290812858178  1.7344474048512581     0.634   \n",
              "nr_employed     41188    5167.035910942858   72.25152766826842    4963.6   \n",
              "y               41188                 None                None        no   \n",
              "\n",
              "                        4  \n",
              "summary               max  \n",
              "age                    98  \n",
              "job               unknown  \n",
              "marital           unknown  \n",
              "education         unknown  \n",
              "default               yes  \n",
              "housing               yes  \n",
              "loan                  yes  \n",
              "contact         telephone  \n",
              "month                 sep  \n",
              "day_of_week           wed  \n",
              "duration             4918  \n",
              "campaign               56  \n",
              "pdays                 999  \n",
              "previous                7  \n",
              "poutcome          success  \n",
              "emp_var_rate          1.4  \n",
              "cons_price_idx     94.767  \n",
              "cons_conf_idx       -26.9  \n",
              "euribor3m           5.045  \n",
              "nr_employed        5228.1  \n",
              "y                     yes  "
            ],
            "text/html": [
              "\n",
              "  <div id=\"df-7f3f312f-75e3-470b-b8ab-4b3a754bdeea\">\n",
              "    <div class=\"colab-df-container\">\n",
              "      <div>\n",
              "<style scoped>\n",
              "    .dataframe tbody tr th:only-of-type {\n",
              "        vertical-align: middle;\n",
              "    }\n",
              "\n",
              "    .dataframe tbody tr th {\n",
              "        vertical-align: top;\n",
              "    }\n",
              "\n",
              "    .dataframe thead th {\n",
              "        text-align: right;\n",
              "    }\n",
              "</style>\n",
              "<table border=\"1\" class=\"dataframe\">\n",
              "  <thead>\n",
              "    <tr style=\"text-align: right;\">\n",
              "      <th></th>\n",
              "      <th>0</th>\n",
              "      <th>1</th>\n",
              "      <th>2</th>\n",
              "      <th>3</th>\n",
              "      <th>4</th>\n",
              "    </tr>\n",
              "  </thead>\n",
              "  <tbody>\n",
              "    <tr>\n",
              "      <th>summary</th>\n",
              "      <td>count</td>\n",
              "      <td>mean</td>\n",
              "      <td>stddev</td>\n",
              "      <td>min</td>\n",
              "      <td>max</td>\n",
              "    </tr>\n",
              "    <tr>\n",
              "      <th>age</th>\n",
              "      <td>41188</td>\n",
              "      <td>40.02406040594348</td>\n",
              "      <td>10.421249980934036</td>\n",
              "      <td>17</td>\n",
              "      <td>98</td>\n",
              "    </tr>\n",
              "    <tr>\n",
              "      <th>job</th>\n",
              "      <td>41188</td>\n",
              "      <td>None</td>\n",
              "      <td>None</td>\n",
              "      <td>admin.</td>\n",
              "      <td>unknown</td>\n",
              "    </tr>\n",
              "    <tr>\n",
              "      <th>marital</th>\n",
              "      <td>41188</td>\n",
              "      <td>None</td>\n",
              "      <td>None</td>\n",
              "      <td>divorced</td>\n",
              "      <td>unknown</td>\n",
              "    </tr>\n",
              "    <tr>\n",
              "      <th>education</th>\n",
              "      <td>41188</td>\n",
              "      <td>None</td>\n",
              "      <td>None</td>\n",
              "      <td>basic.4y</td>\n",
              "      <td>unknown</td>\n",
              "    </tr>\n",
              "    <tr>\n",
              "      <th>default</th>\n",
              "      <td>41188</td>\n",
              "      <td>None</td>\n",
              "      <td>None</td>\n",
              "      <td>no</td>\n",
              "      <td>yes</td>\n",
              "    </tr>\n",
              "    <tr>\n",
              "      <th>housing</th>\n",
              "      <td>41188</td>\n",
              "      <td>None</td>\n",
              "      <td>None</td>\n",
              "      <td>no</td>\n",
              "      <td>yes</td>\n",
              "    </tr>\n",
              "    <tr>\n",
              "      <th>loan</th>\n",
              "      <td>41188</td>\n",
              "      <td>None</td>\n",
              "      <td>None</td>\n",
              "      <td>no</td>\n",
              "      <td>yes</td>\n",
              "    </tr>\n",
              "    <tr>\n",
              "      <th>contact</th>\n",
              "      <td>41188</td>\n",
              "      <td>None</td>\n",
              "      <td>None</td>\n",
              "      <td>cellular</td>\n",
              "      <td>telephone</td>\n",
              "    </tr>\n",
              "    <tr>\n",
              "      <th>month</th>\n",
              "      <td>41188</td>\n",
              "      <td>None</td>\n",
              "      <td>None</td>\n",
              "      <td>apr</td>\n",
              "      <td>sep</td>\n",
              "    </tr>\n",
              "    <tr>\n",
              "      <th>day_of_week</th>\n",
              "      <td>41188</td>\n",
              "      <td>None</td>\n",
              "      <td>None</td>\n",
              "      <td>fri</td>\n",
              "      <td>wed</td>\n",
              "    </tr>\n",
              "    <tr>\n",
              "      <th>duration</th>\n",
              "      <td>41188</td>\n",
              "      <td>258.2850101971448</td>\n",
              "      <td>259.279248836465</td>\n",
              "      <td>0</td>\n",
              "      <td>4918</td>\n",
              "    </tr>\n",
              "    <tr>\n",
              "      <th>campaign</th>\n",
              "      <td>41188</td>\n",
              "      <td>2.567592502670681</td>\n",
              "      <td>2.770013542902325</td>\n",
              "      <td>1</td>\n",
              "      <td>56</td>\n",
              "    </tr>\n",
              "    <tr>\n",
              "      <th>pdays</th>\n",
              "      <td>41188</td>\n",
              "      <td>962.4754540157328</td>\n",
              "      <td>186.91090734474088</td>\n",
              "      <td>0</td>\n",
              "      <td>999</td>\n",
              "    </tr>\n",
              "    <tr>\n",
              "      <th>previous</th>\n",
              "      <td>41188</td>\n",
              "      <td>0.17296299893172767</td>\n",
              "      <td>0.4949010798392903</td>\n",
              "      <td>0</td>\n",
              "      <td>7</td>\n",
              "    </tr>\n",
              "    <tr>\n",
              "      <th>poutcome</th>\n",
              "      <td>41188</td>\n",
              "      <td>None</td>\n",
              "      <td>None</td>\n",
              "      <td>failure</td>\n",
              "      <td>success</td>\n",
              "    </tr>\n",
              "    <tr>\n",
              "      <th>emp_var_rate</th>\n",
              "      <td>41188</td>\n",
              "      <td>0.08188550063188142</td>\n",
              "      <td>1.57095974051703</td>\n",
              "      <td>-3.4</td>\n",
              "      <td>1.4</td>\n",
              "    </tr>\n",
              "    <tr>\n",
              "      <th>cons_price_idx</th>\n",
              "      <td>41188</td>\n",
              "      <td>93.575664368313</td>\n",
              "      <td>0.5788400489540073</td>\n",
              "      <td>92.201</td>\n",
              "      <td>94.767</td>\n",
              "    </tr>\n",
              "    <tr>\n",
              "      <th>cons_conf_idx</th>\n",
              "      <td>41188</td>\n",
              "      <td>-40.502600271913245</td>\n",
              "      <td>4.62819785617459</td>\n",
              "      <td>-50.8</td>\n",
              "      <td>-26.9</td>\n",
              "    </tr>\n",
              "    <tr>\n",
              "      <th>euribor3m</th>\n",
              "      <td>41188</td>\n",
              "      <td>3.621290812858178</td>\n",
              "      <td>1.7344474048512581</td>\n",
              "      <td>0.634</td>\n",
              "      <td>5.045</td>\n",
              "    </tr>\n",
              "    <tr>\n",
              "      <th>nr_employed</th>\n",
              "      <td>41188</td>\n",
              "      <td>5167.035910942858</td>\n",
              "      <td>72.25152766826842</td>\n",
              "      <td>4963.6</td>\n",
              "      <td>5228.1</td>\n",
              "    </tr>\n",
              "    <tr>\n",
              "      <th>y</th>\n",
              "      <td>41188</td>\n",
              "      <td>None</td>\n",
              "      <td>None</td>\n",
              "      <td>no</td>\n",
              "      <td>yes</td>\n",
              "    </tr>\n",
              "  </tbody>\n",
              "</table>\n",
              "</div>\n",
              "      <button class=\"colab-df-convert\" onclick=\"convertToInteractive('df-7f3f312f-75e3-470b-b8ab-4b3a754bdeea')\"\n",
              "              title=\"Convert this dataframe to an interactive table.\"\n",
              "              style=\"display:none;\">\n",
              "        \n",
              "  <svg xmlns=\"http://www.w3.org/2000/svg\" height=\"24px\"viewBox=\"0 0 24 24\"\n",
              "       width=\"24px\">\n",
              "    <path d=\"M0 0h24v24H0V0z\" fill=\"none\"/>\n",
              "    <path d=\"M18.56 5.44l.94 2.06.94-2.06 2.06-.94-2.06-.94-.94-2.06-.94 2.06-2.06.94zm-11 1L8.5 8.5l.94-2.06 2.06-.94-2.06-.94L8.5 2.5l-.94 2.06-2.06.94zm10 10l.94 2.06.94-2.06 2.06-.94-2.06-.94-.94-2.06-.94 2.06-2.06.94z\"/><path d=\"M17.41 7.96l-1.37-1.37c-.4-.4-.92-.59-1.43-.59-.52 0-1.04.2-1.43.59L10.3 9.45l-7.72 7.72c-.78.78-.78 2.05 0 2.83L4 21.41c.39.39.9.59 1.41.59.51 0 1.02-.2 1.41-.59l7.78-7.78 2.81-2.81c.8-.78.8-2.07 0-2.86zM5.41 20L4 18.59l7.72-7.72 1.47 1.35L5.41 20z\"/>\n",
              "  </svg>\n",
              "      </button>\n",
              "      \n",
              "  <style>\n",
              "    .colab-df-container {\n",
              "      display:flex;\n",
              "      flex-wrap:wrap;\n",
              "      gap: 12px;\n",
              "    }\n",
              "\n",
              "    .colab-df-convert {\n",
              "      background-color: #E8F0FE;\n",
              "      border: none;\n",
              "      border-radius: 50%;\n",
              "      cursor: pointer;\n",
              "      display: none;\n",
              "      fill: #1967D2;\n",
              "      height: 32px;\n",
              "      padding: 0 0 0 0;\n",
              "      width: 32px;\n",
              "    }\n",
              "\n",
              "    .colab-df-convert:hover {\n",
              "      background-color: #E2EBFA;\n",
              "      box-shadow: 0px 1px 2px rgba(60, 64, 67, 0.3), 0px 1px 3px 1px rgba(60, 64, 67, 0.15);\n",
              "      fill: #174EA6;\n",
              "    }\n",
              "\n",
              "    [theme=dark] .colab-df-convert {\n",
              "      background-color: #3B4455;\n",
              "      fill: #D2E3FC;\n",
              "    }\n",
              "\n",
              "    [theme=dark] .colab-df-convert:hover {\n",
              "      background-color: #434B5C;\n",
              "      box-shadow: 0px 1px 3px 1px rgba(0, 0, 0, 0.15);\n",
              "      filter: drop-shadow(0px 1px 2px rgba(0, 0, 0, 0.3));\n",
              "      fill: #FFFFFF;\n",
              "    }\n",
              "  </style>\n",
              "\n",
              "      <script>\n",
              "        const buttonEl =\n",
              "          document.querySelector('#df-7f3f312f-75e3-470b-b8ab-4b3a754bdeea button.colab-df-convert');\n",
              "        buttonEl.style.display =\n",
              "          google.colab.kernel.accessAllowed ? 'block' : 'none';\n",
              "\n",
              "        async function convertToInteractive(key) {\n",
              "          const element = document.querySelector('#df-7f3f312f-75e3-470b-b8ab-4b3a754bdeea');\n",
              "          const dataTable =\n",
              "            await google.colab.kernel.invokeFunction('convertToInteractive',\n",
              "                                                     [key], {});\n",
              "          if (!dataTable) return;\n",
              "\n",
              "          const docLinkHtml = 'Like what you see? Visit the ' +\n",
              "            '<a target=\"_blank\" href=https://colab.research.google.com/notebooks/data_table.ipynb>data table notebook</a>'\n",
              "            + ' to learn more about interactive tables.';\n",
              "          element.innerHTML = '';\n",
              "          dataTable['output_type'] = 'display_data';\n",
              "          await google.colab.output.renderOutput(dataTable, element);\n",
              "          const docLink = document.createElement('div');\n",
              "          docLink.innerHTML = docLinkHtml;\n",
              "          element.appendChild(docLink);\n",
              "        }\n",
              "      </script>\n",
              "    </div>\n",
              "  </div>\n",
              "  "
            ]
          },
          "metadata": {},
          "execution_count": 163
        }
      ],
      "source": [
        "# Check basic statistics\n",
        "df.describe().toPandas().transpose()"
      ]
    },
    {
      "cell_type": "code",
      "execution_count": 164,
      "id": "0ba38004",
      "metadata": {
        "colab": {
          "base_uri": "https://localhost:8080/"
        },
        "id": "0ba38004",
        "outputId": "f8e95925-5ef2-40c8-a2db-22001cc159c3"
      },
      "outputs": [
        {
          "output_type": "stream",
          "name": "stdout",
          "text": [
            "+---+-----+\n",
            "|  y|count|\n",
            "+---+-----+\n",
            "| no|36548|\n",
            "|yes| 4640|\n",
            "+---+-----+\n",
            "\n"
          ]
        }
      ],
      "source": [
        "# Target variable Distribution\n",
        "df.groupBy(\"y\").count().show()"
      ]
    },
    {
      "cell_type": "code",
      "execution_count": 165,
      "id": "1c858c8d",
      "metadata": {
        "colab": {
          "base_uri": "https://localhost:8080/"
        },
        "id": "1c858c8d",
        "outputId": "6aaba033-f81b-419d-dab1-2593b09e558d"
      },
      "outputs": [
        {
          "output_type": "stream",
          "name": "stdout",
          "text": [
            "+-------------+-----+\n",
            "|          job|count|\n",
            "+-------------+-----+\n",
            "|   management| 2924|\n",
            "|      retired| 1720|\n",
            "|      unknown|  330|\n",
            "|self-employed| 1421|\n",
            "|      student|  875|\n",
            "|  blue-collar| 9254|\n",
            "| entrepreneur| 1456|\n",
            "|       admin.|10422|\n",
            "|   technician| 6743|\n",
            "|     services| 3969|\n",
            "|    housemaid| 1060|\n",
            "|   unemployed| 1014|\n",
            "+-------------+-----+\n",
            "\n",
            "+--------+-----+\n",
            "| marital|count|\n",
            "+--------+-----+\n",
            "| unknown|   80|\n",
            "|divorced| 4612|\n",
            "| married|24928|\n",
            "|  single|11568|\n",
            "+--------+-----+\n",
            "\n",
            "+-------------------+-----+\n",
            "|          education|count|\n",
            "+-------------------+-----+\n",
            "|        high.school| 9515|\n",
            "|            unknown| 1731|\n",
            "|           basic.6y| 2292|\n",
            "|professional.course| 5243|\n",
            "|  university.degree|12168|\n",
            "|         illiterate|   18|\n",
            "|           basic.4y| 4176|\n",
            "|           basic.9y| 6045|\n",
            "+-------------------+-----+\n",
            "\n",
            "+-------+-----+\n",
            "|default|count|\n",
            "+-------+-----+\n",
            "|unknown| 8597|\n",
            "|     no|32588|\n",
            "|    yes|    3|\n",
            "+-------+-----+\n",
            "\n",
            "+-------+-----+\n",
            "|housing|count|\n",
            "+-------+-----+\n",
            "|unknown|  990|\n",
            "|     no|18622|\n",
            "|    yes|21576|\n",
            "+-------+-----+\n",
            "\n",
            "+-------+-----+\n",
            "|   loan|count|\n",
            "+-------+-----+\n",
            "|unknown|  990|\n",
            "|     no|33950|\n",
            "|    yes| 6248|\n",
            "+-------+-----+\n",
            "\n",
            "+---------+-----+\n",
            "|  contact|count|\n",
            "+---------+-----+\n",
            "| cellular|26144|\n",
            "|telephone|15044|\n",
            "+---------+-----+\n",
            "\n",
            "+-----+-----+\n",
            "|month|count|\n",
            "+-----+-----+\n",
            "|  jun| 5318|\n",
            "|  aug| 6178|\n",
            "|  may|13769|\n",
            "|  mar|  546|\n",
            "|  oct|  718|\n",
            "|  jul| 7174|\n",
            "|  nov| 4101|\n",
            "|  apr| 2632|\n",
            "|  dec|  182|\n",
            "|  sep|  570|\n",
            "+-----+-----+\n",
            "\n",
            "+-----------+-----+\n",
            "|day_of_week|count|\n",
            "+-----------+-----+\n",
            "|        fri| 7827|\n",
            "|        thu| 8623|\n",
            "|        tue| 8090|\n",
            "|        wed| 8134|\n",
            "|        mon| 8514|\n",
            "+-----------+-----+\n",
            "\n",
            "+-----------+-----+\n",
            "|   poutcome|count|\n",
            "+-----------+-----+\n",
            "|    success| 1373|\n",
            "|    failure| 4252|\n",
            "|nonexistent|35563|\n",
            "+-----------+-----+\n",
            "\n",
            "+---+-----+\n",
            "|  y|count|\n",
            "+---+-----+\n",
            "| no|36548|\n",
            "|yes| 4640|\n",
            "+---+-----+\n",
            "\n"
          ]
        }
      ],
      "source": [
        "# Finding categorical variables\n",
        "\n",
        "cat_features = [t[0] for t in df.dtypes if t[1] == 'string']\n",
        "\n",
        "# checking value count of each category\n",
        "for i in cat_features:\n",
        "    df.groupBy(i).count().show()"
      ]
    },
    {
      "cell_type": "code",
      "source": [
        "# We could see 'unknown' as category in multiple variables. Checking count of missing values\n",
        "\n",
        "cat_missing_values = pd.DataFrame(columns = ['column_name','Number_of_missing_values'])\n",
        "for c in cat_features:\n",
        "    x = df.select(c).where(df[c] =='unknown').count()\n",
        "    cat_missing_values = cat_missing_values.append({'column_name' : c, 'Number_of_missing_values' : x},\n",
        "            ignore_index = True)\n",
        "    \n",
        "cat_missing_values"
      ],
      "metadata": {
        "colab": {
          "base_uri": "https://localhost:8080/",
          "height": 394
        },
        "id": "SXX_xKM0CACp",
        "outputId": "818e0b9e-235a-4c4e-8aa9-b1c7c84d95c5"
      },
      "id": "SXX_xKM0CACp",
      "execution_count": 166,
      "outputs": [
        {
          "output_type": "execute_result",
          "data": {
            "text/plain": [
              "    column_name Number_of_missing_values\n",
              "0           job                      330\n",
              "1       marital                       80\n",
              "2     education                     1731\n",
              "3       default                     8597\n",
              "4       housing                      990\n",
              "5          loan                      990\n",
              "6       contact                        0\n",
              "7         month                        0\n",
              "8   day_of_week                        0\n",
              "9      poutcome                        0\n",
              "10            y                        0"
            ],
            "text/html": [
              "\n",
              "  <div id=\"df-5ea554ff-ed19-47d6-a6c5-0518074dbead\">\n",
              "    <div class=\"colab-df-container\">\n",
              "      <div>\n",
              "<style scoped>\n",
              "    .dataframe tbody tr th:only-of-type {\n",
              "        vertical-align: middle;\n",
              "    }\n",
              "\n",
              "    .dataframe tbody tr th {\n",
              "        vertical-align: top;\n",
              "    }\n",
              "\n",
              "    .dataframe thead th {\n",
              "        text-align: right;\n",
              "    }\n",
              "</style>\n",
              "<table border=\"1\" class=\"dataframe\">\n",
              "  <thead>\n",
              "    <tr style=\"text-align: right;\">\n",
              "      <th></th>\n",
              "      <th>column_name</th>\n",
              "      <th>Number_of_missing_values</th>\n",
              "    </tr>\n",
              "  </thead>\n",
              "  <tbody>\n",
              "    <tr>\n",
              "      <th>0</th>\n",
              "      <td>job</td>\n",
              "      <td>330</td>\n",
              "    </tr>\n",
              "    <tr>\n",
              "      <th>1</th>\n",
              "      <td>marital</td>\n",
              "      <td>80</td>\n",
              "    </tr>\n",
              "    <tr>\n",
              "      <th>2</th>\n",
              "      <td>education</td>\n",
              "      <td>1731</td>\n",
              "    </tr>\n",
              "    <tr>\n",
              "      <th>3</th>\n",
              "      <td>default</td>\n",
              "      <td>8597</td>\n",
              "    </tr>\n",
              "    <tr>\n",
              "      <th>4</th>\n",
              "      <td>housing</td>\n",
              "      <td>990</td>\n",
              "    </tr>\n",
              "    <tr>\n",
              "      <th>5</th>\n",
              "      <td>loan</td>\n",
              "      <td>990</td>\n",
              "    </tr>\n",
              "    <tr>\n",
              "      <th>6</th>\n",
              "      <td>contact</td>\n",
              "      <td>0</td>\n",
              "    </tr>\n",
              "    <tr>\n",
              "      <th>7</th>\n",
              "      <td>month</td>\n",
              "      <td>0</td>\n",
              "    </tr>\n",
              "    <tr>\n",
              "      <th>8</th>\n",
              "      <td>day_of_week</td>\n",
              "      <td>0</td>\n",
              "    </tr>\n",
              "    <tr>\n",
              "      <th>9</th>\n",
              "      <td>poutcome</td>\n",
              "      <td>0</td>\n",
              "    </tr>\n",
              "    <tr>\n",
              "      <th>10</th>\n",
              "      <td>y</td>\n",
              "      <td>0</td>\n",
              "    </tr>\n",
              "  </tbody>\n",
              "</table>\n",
              "</div>\n",
              "      <button class=\"colab-df-convert\" onclick=\"convertToInteractive('df-5ea554ff-ed19-47d6-a6c5-0518074dbead')\"\n",
              "              title=\"Convert this dataframe to an interactive table.\"\n",
              "              style=\"display:none;\">\n",
              "        \n",
              "  <svg xmlns=\"http://www.w3.org/2000/svg\" height=\"24px\"viewBox=\"0 0 24 24\"\n",
              "       width=\"24px\">\n",
              "    <path d=\"M0 0h24v24H0V0z\" fill=\"none\"/>\n",
              "    <path d=\"M18.56 5.44l.94 2.06.94-2.06 2.06-.94-2.06-.94-.94-2.06-.94 2.06-2.06.94zm-11 1L8.5 8.5l.94-2.06 2.06-.94-2.06-.94L8.5 2.5l-.94 2.06-2.06.94zm10 10l.94 2.06.94-2.06 2.06-.94-2.06-.94-.94-2.06-.94 2.06-2.06.94z\"/><path d=\"M17.41 7.96l-1.37-1.37c-.4-.4-.92-.59-1.43-.59-.52 0-1.04.2-1.43.59L10.3 9.45l-7.72 7.72c-.78.78-.78 2.05 0 2.83L4 21.41c.39.39.9.59 1.41.59.51 0 1.02-.2 1.41-.59l7.78-7.78 2.81-2.81c.8-.78.8-2.07 0-2.86zM5.41 20L4 18.59l7.72-7.72 1.47 1.35L5.41 20z\"/>\n",
              "  </svg>\n",
              "      </button>\n",
              "      \n",
              "  <style>\n",
              "    .colab-df-container {\n",
              "      display:flex;\n",
              "      flex-wrap:wrap;\n",
              "      gap: 12px;\n",
              "    }\n",
              "\n",
              "    .colab-df-convert {\n",
              "      background-color: #E8F0FE;\n",
              "      border: none;\n",
              "      border-radius: 50%;\n",
              "      cursor: pointer;\n",
              "      display: none;\n",
              "      fill: #1967D2;\n",
              "      height: 32px;\n",
              "      padding: 0 0 0 0;\n",
              "      width: 32px;\n",
              "    }\n",
              "\n",
              "    .colab-df-convert:hover {\n",
              "      background-color: #E2EBFA;\n",
              "      box-shadow: 0px 1px 2px rgba(60, 64, 67, 0.3), 0px 1px 3px 1px rgba(60, 64, 67, 0.15);\n",
              "      fill: #174EA6;\n",
              "    }\n",
              "\n",
              "    [theme=dark] .colab-df-convert {\n",
              "      background-color: #3B4455;\n",
              "      fill: #D2E3FC;\n",
              "    }\n",
              "\n",
              "    [theme=dark] .colab-df-convert:hover {\n",
              "      background-color: #434B5C;\n",
              "      box-shadow: 0px 1px 3px 1px rgba(0, 0, 0, 0.15);\n",
              "      filter: drop-shadow(0px 1px 2px rgba(0, 0, 0, 0.3));\n",
              "      fill: #FFFFFF;\n",
              "    }\n",
              "  </style>\n",
              "\n",
              "      <script>\n",
              "        const buttonEl =\n",
              "          document.querySelector('#df-5ea554ff-ed19-47d6-a6c5-0518074dbead button.colab-df-convert');\n",
              "        buttonEl.style.display =\n",
              "          google.colab.kernel.accessAllowed ? 'block' : 'none';\n",
              "\n",
              "        async function convertToInteractive(key) {\n",
              "          const element = document.querySelector('#df-5ea554ff-ed19-47d6-a6c5-0518074dbead');\n",
              "          const dataTable =\n",
              "            await google.colab.kernel.invokeFunction('convertToInteractive',\n",
              "                                                     [key], {});\n",
              "          if (!dataTable) return;\n",
              "\n",
              "          const docLinkHtml = 'Like what you see? Visit the ' +\n",
              "            '<a target=\"_blank\" href=https://colab.research.google.com/notebooks/data_table.ipynb>data table notebook</a>'\n",
              "            + ' to learn more about interactive tables.';\n",
              "          element.innerHTML = '';\n",
              "          dataTable['output_type'] = 'display_data';\n",
              "          await google.colab.output.renderOutput(dataTable, element);\n",
              "          const docLink = document.createElement('div');\n",
              "          docLink.innerHTML = docLinkHtml;\n",
              "          element.appendChild(docLink);\n",
              "        }\n",
              "      </script>\n",
              "    </div>\n",
              "  </div>\n",
              "  "
            ]
          },
          "metadata": {},
          "execution_count": 166
        }
      ]
    },
    {
      "cell_type": "code",
      "source": [
        "# Imputing Unknown values in marital status with mode\n",
        "\n",
        "marital_mode = df.groupby(\"marital\").count().orderBy(\"count\", ascending=False).first()[0]\n",
        "df=df.withColumn(\"marital\",when(df.marital=='unknown',marital_mode).otherwise(df.marital))"
      ],
      "metadata": {
        "id": "t-7uZ_kuCi5R"
      },
      "id": "t-7uZ_kuCi5R",
      "execution_count": 167,
      "outputs": []
    },
    {
      "cell_type": "code",
      "source": [
        "# Showing value counts\n",
        "df.groupBy('marital').count().show()"
      ],
      "metadata": {
        "colab": {
          "base_uri": "https://localhost:8080/"
        },
        "id": "EID6iM9dCiw2",
        "outputId": "dbc1b098-4d94-4b04-ef61-8b637f2a5aee"
      },
      "id": "EID6iM9dCiw2",
      "execution_count": 168,
      "outputs": [
        {
          "output_type": "stream",
          "name": "stdout",
          "text": [
            "+--------+-----+\n",
            "| marital|count|\n",
            "+--------+-----+\n",
            "|divorced| 4612|\n",
            "| married|25008|\n",
            "|  single|11568|\n",
            "+--------+-----+\n",
            "\n"
          ]
        }
      ]
    },
    {
      "cell_type": "code",
      "source": [
        "# Combining 'illiterate' and 'unknown' category together in education column\n",
        "\n",
        "df = df.withColumn(\"education\",when(df.education=='illiterate','unknown').otherwise(df.education))\n",
        "\n",
        "# Similarly, for default column, combining 'yes' and 'unknown' together\n",
        "\n",
        "df = df.withColumn(\"default\",when(df.default=='yes','unknown').otherwise(df.default))\n",
        "\n",
        "# Checking the dataset\n",
        "df.groupBy('default').count().show()"
      ],
      "metadata": {
        "colab": {
          "base_uri": "https://localhost:8080/"
        },
        "id": "PtzB0yjYCs5O",
        "outputId": "8c611847-048d-4fe0-c8e6-0ccb43fffbf4"
      },
      "id": "PtzB0yjYCs5O",
      "execution_count": 169,
      "outputs": [
        {
          "output_type": "stream",
          "name": "stdout",
          "text": [
            "+-------+-----+\n",
            "|default|count|\n",
            "+-------+-----+\n",
            "|unknown| 8600|\n",
            "|     no|32588|\n",
            "+-------+-----+\n",
            "\n"
          ]
        }
      ]
    },
    {
      "cell_type": "code",
      "execution_count": 170,
      "id": "fb860077",
      "metadata": {
        "id": "fb860077"
      },
      "outputs": [],
      "source": [
        "# Adding age label\n",
        "\n",
        "from pyspark.ml.feature import Bucketizer\n",
        "bucketizer = Bucketizer(splits=[15, 26, 36, 46, 56, 66, 76, 100],inputCol=\"age\", outputCol=\"age_buckets\")\n",
        "df = bucketizer.setHandleInvalid(\"keep\").transform(df)\n"
      ]
    },
    {
      "cell_type": "code",
      "execution_count": 171,
      "id": "aa35141d",
      "metadata": {
        "colab": {
          "base_uri": "https://localhost:8080/"
        },
        "id": "aa35141d",
        "outputId": "555555e9-3233-41c0-8321-46b1a7a8ec3e"
      },
      "outputs": [
        {
          "output_type": "stream",
          "name": "stdout",
          "text": [
            "+---+-----------+\n",
            "|age|age_buckets|\n",
            "+---+-----------+\n",
            "| 56|        4.0|\n",
            "| 57|        4.0|\n",
            "| 37|        2.0|\n",
            "| 40|        2.0|\n",
            "| 56|        4.0|\n",
            "| 45|        2.0|\n",
            "| 59|        4.0|\n",
            "| 41|        2.0|\n",
            "| 24|        0.0|\n",
            "| 25|        0.0|\n",
            "| 41|        2.0|\n",
            "| 25|        0.0|\n",
            "| 29|        1.0|\n",
            "| 57|        4.0|\n",
            "| 35|        1.0|\n",
            "| 54|        3.0|\n",
            "| 35|        1.0|\n",
            "| 46|        3.0|\n",
            "| 50|        3.0|\n",
            "| 39|        2.0|\n",
            "+---+-----------+\n",
            "only showing top 20 rows\n",
            "\n"
          ]
        }
      ],
      "source": [
        "df.select('age', 'age_buckets').show()"
      ]
    },
    {
      "cell_type": "code",
      "execution_count": 172,
      "id": "757d5fa6",
      "metadata": {
        "id": "757d5fa6"
      },
      "outputs": [],
      "source": [
        "t = {0.0:\"15-25\", 1.0: \"26-35\", 2.0:\"36-45\", 3.0: \"46-55\", 4.0: \"56-65\", 5.0: \"66-75\", 6.0: \"Above 75\"}\n",
        "udf_foo = udf(lambda x: t[x], StringType())\n",
        "df = df.withColumn(\"age_label\", udf_foo(\"age_buckets\"))"
      ]
    },
    {
      "cell_type": "code",
      "execution_count": 173,
      "id": "0e431620",
      "metadata": {
        "colab": {
          "base_uri": "https://localhost:8080/"
        },
        "id": "0e431620",
        "outputId": "a6c0122d-c88e-42a9-a719-9338b0594e15"
      },
      "outputs": [
        {
          "output_type": "stream",
          "name": "stdout",
          "text": [
            "+---+-----------+---------+\n",
            "|age|age_buckets|age_label|\n",
            "+---+-----------+---------+\n",
            "| 56|        4.0|    56-65|\n",
            "| 57|        4.0|    56-65|\n",
            "| 37|        2.0|    36-45|\n",
            "| 40|        2.0|    36-45|\n",
            "| 56|        4.0|    56-65|\n",
            "| 45|        2.0|    36-45|\n",
            "| 59|        4.0|    56-65|\n",
            "| 41|        2.0|    36-45|\n",
            "| 24|        0.0|    15-25|\n",
            "| 25|        0.0|    15-25|\n",
            "| 41|        2.0|    36-45|\n",
            "| 25|        0.0|    15-25|\n",
            "| 29|        1.0|    26-35|\n",
            "| 57|        4.0|    56-65|\n",
            "| 35|        1.0|    26-35|\n",
            "| 54|        3.0|    46-55|\n",
            "| 35|        1.0|    26-35|\n",
            "| 46|        3.0|    46-55|\n",
            "| 50|        3.0|    46-55|\n",
            "| 39|        2.0|    36-45|\n",
            "+---+-----------+---------+\n",
            "only showing top 20 rows\n",
            "\n"
          ]
        }
      ],
      "source": [
        "df.select('age', 'age_buckets', 'age_label').show()"
      ]
    },
    {
      "cell_type": "code",
      "execution_count": 174,
      "id": "aaba5e1e",
      "metadata": {
        "id": "aaba5e1e"
      },
      "outputs": [],
      "source": [
        "df_P = df.toPandas()"
      ]
    },
    {
      "cell_type": "code",
      "execution_count": 175,
      "id": "7a9fc517",
      "metadata": {
        "colab": {
          "base_uri": "https://localhost:8080/",
          "height": 327
        },
        "id": "7a9fc517",
        "outputId": "92ee533f-4ecb-42c0-e172-6bc4bf7b23b1"
      },
      "outputs": [
        {
          "output_type": "execute_result",
          "data": {
            "text/plain": [
              "<matplotlib.axes._subplots.AxesSubplot at 0x7f6ff14225d0>"
            ]
          },
          "metadata": {},
          "execution_count": 175
        },
        {
          "output_type": "display_data",
          "data": {
            "text/plain": [
              "<Figure size 432x288 with 1 Axes>"
            ],
            "image/png": "[encoded data removed]"
          },
          "metadata": {}
        }
      ],
      "source": [
        "df_P['age_label'].value_counts().reindex([\"15-25\",  \"26-35\", \"36-45\",  \"46-55\", \"56-65\",  \"66-75\", \"Above 75\"]).plot(kind='bar')"
      ]
    },
    {
      "cell_type": "code",
      "execution_count": 176,
      "id": "49688394",
      "metadata": {
        "id": "49688394"
      },
      "outputs": [],
      "source": [
        "df = df.drop(*['age','age_label'])"
      ]
    },
    {
      "cell_type": "code",
      "execution_count": 177,
      "id": "3857bb68",
      "metadata": {
        "colab": {
          "base_uri": "https://localhost:8080/"
        },
        "id": "3857bb68",
        "outputId": "ef97d882-9863-45e1-fd86-c798215b1ff1"
      },
      "outputs": [
        {
          "output_type": "stream",
          "name": "stdout",
          "text": [
            "[0, 1, 2, 3, 4, 5, 6, 7, 8, 9, 10, 11, 12, 13, 14, 15, 16, 17, 18, 19, 20, 21, 22, 25, 26, 27, 999]\n"
          ]
        }
      ],
      "source": [
        "# Binning number of days last contacted\n",
        "\n",
        "# First checking the distribution of Pdays\n",
        "pdays_values = df.select('pdays').distinct().rdd.map(lambda r: r[0]).collect()\n",
        "pdays_values.sort()\n",
        "print(pdays_values)"
      ]
    },
    {
      "cell_type": "code",
      "execution_count": 178,
      "id": "fcd66f41",
      "metadata": {
        "id": "fcd66f41"
      },
      "outputs": [],
      "source": [
        "# Adding pdays buckets\n",
        "\n",
        "from pyspark.ml.feature import Bucketizer\n",
        "bucketizer = Bucketizer(splits=[0, 6, 11, 16, 21, 30, 1000],inputCol=\"pdays\", outputCol=\"pdays_buckets\")\n",
        "df = bucketizer.setHandleInvalid(\"keep\").transform(df)"
      ]
    },
    {
      "cell_type": "code",
      "execution_count": 179,
      "id": "88ff76e2",
      "metadata": {
        "id": "88ff76e2"
      },
      "outputs": [],
      "source": [
        "# Adding pdays label\n",
        "t = {0.0:\"Less than 5 days\", 1.0: \"6-10 days\", 2.0:\"11-15 days\", 3.0: \"16-20 days\", 4.0: \"More than 20 days\", 5.0: \"Never\"}\n",
        "udf_foo = udf(lambda x: t[x], StringType())\n",
        "df = df.withColumn(\"pdays_label\", udf_foo(\"pdays_buckets\"))"
      ]
    },
    {
      "cell_type": "code",
      "execution_count": 180,
      "id": "35e09b7d",
      "metadata": {
        "id": "35e09b7d"
      },
      "outputs": [],
      "source": [
        "df = df.drop(*['pdays','pdays_buckets'])"
      ]
    },
    {
      "cell_type": "code",
      "execution_count": 181,
      "id": "d239aeb1",
      "metadata": {
        "colab": {
          "base_uri": "https://localhost:8080/",
          "height": 285
        },
        "id": "d239aeb1",
        "outputId": "9144e258-5860-4aa3-d479-767be0c01e9a"
      },
      "outputs": [
        {
          "output_type": "execute_result",
          "data": {
            "text/plain": [
              "<matplotlib.axes._subplots.AxesSubplot at 0x7f6ff095d910>"
            ]
          },
          "metadata": {},
          "execution_count": 181
        },
        {
          "output_type": "display_data",
          "data": {
            "text/plain": [
              "<Figure size 432x288 with 1 Axes>"
            ],
            "image/png": "[encoded data removed]"
          },
          "metadata": {}
        }
      ],
      "source": [
        "df_P = df.toPandas()\n",
        "df_P['pdays_label'].value_counts().reindex([\"Less than 5 days\", \"6-10 days\", \"11-15 days\",  \"16-20 days\", \"More than 20 days\", \"Never\"]).plot(kind='barh')"
      ]
    },
    {
      "cell_type": "code",
      "execution_count": 182,
      "id": "45409f7b",
      "metadata": {
        "colab": {
          "base_uri": "https://localhost:8080/"
        },
        "id": "45409f7b",
        "outputId": "992ac640-b6e4-4a10-e8ec-0c977c14fc34"
      },
      "outputs": [
        {
          "output_type": "stream",
          "name": "stdout",
          "text": [
            "+-----------------+-----+\n",
            "|      pdays_label|count|\n",
            "+-----------------+-----+\n",
            "| Less than 5 days|  705|\n",
            "|       11-15 days|  166|\n",
            "|        6-10 days|  606|\n",
            "|            Never|39673|\n",
            "|       16-20 days|   30|\n",
            "|More than 20 days|    8|\n",
            "+-----------------+-----+\n",
            "\n"
          ]
        }
      ],
      "source": [
        "df.groupBy('pdays_label').count().show()"
      ]
    },
    {
      "cell_type": "code",
      "execution_count": 183,
      "id": "d8abf3bd",
      "metadata": {
        "id": "d8abf3bd"
      },
      "outputs": [],
      "source": [
        "# Getting numeric features\n",
        "int_features = [t[0] for t in df.dtypes if t[1] == 'int']\n",
        "double_features =  [t[0] for t in df.dtypes if t[1] == 'double']\n",
        "numeric_features = int_features + double_features\n",
        "numeric_features\n",
        "\n",
        "numeric_features_df = df.select(numeric_features)"
      ]
    },
    {
      "cell_type": "code",
      "execution_count": 184,
      "id": "7ac874d1",
      "metadata": {
        "colab": {
          "base_uri": "https://localhost:8080/",
          "height": 375
        },
        "id": "7ac874d1",
        "outputId": "15eacb03-14db-4a59-cad2-7148620bcc70"
      },
      "outputs": [
        {
          "output_type": "execute_result",
          "data": {
            "text/plain": [
              "                duration  campaign  previous  emp_var_rate  cons_price_idx  \\\n",
              "duration        1.000000 -0.071699  0.020640     -0.027968        0.005312   \n",
              "campaign       -0.071699  1.000000 -0.079141      0.150754        0.127836   \n",
              "previous        0.020640 -0.079141  1.000000     -0.420489       -0.203130   \n",
              "emp_var_rate   -0.027968  0.150754 -0.420489      1.000000        0.775334   \n",
              "cons_price_idx  0.005312  0.127836 -0.203130      0.775334        1.000000   \n",
              "cons_conf_idx  -0.008173 -0.013733 -0.050936      0.196041        0.058986   \n",
              "euribor3m      -0.032897  0.135133 -0.454494      0.972245        0.688230   \n",
              "nr_employed    -0.044703  0.144095 -0.501333      0.906970        0.522034   \n",
              "age_buckets    -0.001734  0.005480  0.022667      0.002832        0.005568   \n",
              "\n",
              "                cons_conf_idx  euribor3m  nr_employed  age_buckets  \n",
              "duration            -0.008173  -0.032897    -0.044703    -0.001734  \n",
              "campaign            -0.013733   0.135133     0.144095     0.005480  \n",
              "previous            -0.050936  -0.454494    -0.501333     0.022667  \n",
              "emp_var_rate         0.196041   0.972245     0.906970     0.002832  \n",
              "cons_price_idx       0.058986   0.688230     0.522034     0.005568  \n",
              "cons_conf_idx        1.000000   0.277686     0.100513     0.122955  \n",
              "euribor3m            0.277686   1.000000     0.945154     0.013480  \n",
              "nr_employed          0.100513   0.945154     1.000000    -0.014009  \n",
              "age_buckets          0.122955   0.013480    -0.014009     1.000000  "
            ],
            "text/html": [
              "\n",
              "  <div id=\"df-f3937c61-013a-40e9-a66f-97e4b02c419c\">\n",
              "    <div class=\"colab-df-container\">\n",
              "      <div>\n",
              "<style scoped>\n",
              "    .dataframe tbody tr th:only-of-type {\n",
              "        vertical-align: middle;\n",
              "    }\n",
              "\n",
              "    .dataframe tbody tr th {\n",
              "        vertical-align: top;\n",
              "    }\n",
              "\n",
              "    .dataframe thead th {\n",
              "        text-align: right;\n",
              "    }\n",
              "</style>\n",
              "<table border=\"1\" class=\"dataframe\">\n",
              "  <thead>\n",
              "    <tr style=\"text-align: right;\">\n",
              "      <th></th>\n",
              "      <th>duration</th>\n",
              "      <th>campaign</th>\n",
              "      <th>previous</th>\n",
              "      <th>emp_var_rate</th>\n",
              "      <th>cons_price_idx</th>\n",
              "      <th>cons_conf_idx</th>\n",
              "      <th>euribor3m</th>\n",
              "      <th>nr_employed</th>\n",
              "      <th>age_buckets</th>\n",
              "    </tr>\n",
              "  </thead>\n",
              "  <tbody>\n",
              "    <tr>\n",
              "      <th>duration</th>\n",
              "      <td>1.000000</td>\n",
              "      <td>-0.071699</td>\n",
              "      <td>0.020640</td>\n",
              "      <td>-0.027968</td>\n",
              "      <td>0.005312</td>\n",
              "      <td>-0.008173</td>\n",
              "      <td>-0.032897</td>\n",
              "      <td>-0.044703</td>\n",
              "      <td>-0.001734</td>\n",
              "    </tr>\n",
              "    <tr>\n",
              "      <th>campaign</th>\n",
              "      <td>-0.071699</td>\n",
              "      <td>1.000000</td>\n",
              "      <td>-0.079141</td>\n",
              "      <td>0.150754</td>\n",
              "      <td>0.127836</td>\n",
              "      <td>-0.013733</td>\n",
              "      <td>0.135133</td>\n",
              "      <td>0.144095</td>\n",
              "      <td>0.005480</td>\n",
              "    </tr>\n",
              "    <tr>\n",
              "      <th>previous</th>\n",
              "      <td>0.020640</td>\n",
              "      <td>-0.079141</td>\n",
              "      <td>1.000000</td>\n",
              "      <td>-0.420489</td>\n",
              "      <td>-0.203130</td>\n",
              "      <td>-0.050936</td>\n",
              "      <td>-0.454494</td>\n",
              "      <td>-0.501333</td>\n",
              "      <td>0.022667</td>\n",
              "    </tr>\n",
              "    <tr>\n",
              "      <th>emp_var_rate</th>\n",
              "      <td>-0.027968</td>\n",
              "      <td>0.150754</td>\n",
              "      <td>-0.420489</td>\n",
              "      <td>1.000000</td>\n",
              "      <td>0.775334</td>\n",
              "      <td>0.196041</td>\n",
              "      <td>0.972245</td>\n",
              "      <td>0.906970</td>\n",
              "      <td>0.002832</td>\n",
              "    </tr>\n",
              "    <tr>\n",
              "      <th>cons_price_idx</th>\n",
              "      <td>0.005312</td>\n",
              "      <td>0.127836</td>\n",
              "      <td>-0.203130</td>\n",
              "      <td>0.775334</td>\n",
              "      <td>1.000000</td>\n",
              "      <td>0.058986</td>\n",
              "      <td>0.688230</td>\n",
              "      <td>0.522034</td>\n",
              "      <td>0.005568</td>\n",
              "    </tr>\n",
              "    <tr>\n",
              "      <th>cons_conf_idx</th>\n",
              "      <td>-0.008173</td>\n",
              "      <td>-0.013733</td>\n",
              "      <td>-0.050936</td>\n",
              "      <td>0.196041</td>\n",
              "      <td>0.058986</td>\n",
              "      <td>1.000000</td>\n",
              "      <td>0.277686</td>\n",
              "      <td>0.100513</td>\n",
              "      <td>0.122955</td>\n",
              "    </tr>\n",
              "    <tr>\n",
              "      <th>euribor3m</th>\n",
              "      <td>-0.032897</td>\n",
              "      <td>0.135133</td>\n",
              "      <td>-0.454494</td>\n",
              "      <td>0.972245</td>\n",
              "      <td>0.688230</td>\n",
              "      <td>0.277686</td>\n",
              "      <td>1.000000</td>\n",
              "      <td>0.945154</td>\n",
              "      <td>0.013480</td>\n",
              "    </tr>\n",
              "    <tr>\n",
              "      <th>nr_employed</th>\n",
              "      <td>-0.044703</td>\n",
              "      <td>0.144095</td>\n",
              "      <td>-0.501333</td>\n",
              "      <td>0.906970</td>\n",
              "      <td>0.522034</td>\n",
              "      <td>0.100513</td>\n",
              "      <td>0.945154</td>\n",
              "      <td>1.000000</td>\n",
              "      <td>-0.014009</td>\n",
              "    </tr>\n",
              "    <tr>\n",
              "      <th>age_buckets</th>\n",
              "      <td>-0.001734</td>\n",
              "      <td>0.005480</td>\n",
              "      <td>0.022667</td>\n",
              "      <td>0.002832</td>\n",
              "      <td>0.005568</td>\n",
              "      <td>0.122955</td>\n",
              "      <td>0.013480</td>\n",
              "      <td>-0.014009</td>\n",
              "      <td>1.000000</td>\n",
              "    </tr>\n",
              "  </tbody>\n",
              "</table>\n",
              "</div>\n",
              "      <button class=\"colab-df-convert\" onclick=\"convertToInteractive('df-f3937c61-013a-40e9-a66f-97e4b02c419c')\"\n",
              "              title=\"Convert this dataframe to an interactive table.\"\n",
              "              style=\"display:none;\">\n",
              "        \n",
              "  <svg xmlns=\"http://www.w3.org/2000/svg\" height=\"24px\"viewBox=\"0 0 24 24\"\n",
              "       width=\"24px\">\n",
              "    <path d=\"M0 0h24v24H0V0z\" fill=\"none\"/>\n",
              "    <path d=\"M18.56 5.44l.94 2.06.94-2.06 2.06-.94-2.06-.94-.94-2.06-.94 2.06-2.06.94zm-11 1L8.5 8.5l.94-2.06 2.06-.94-2.06-.94L8.5 2.5l-.94 2.06-2.06.94zm10 10l.94 2.06.94-2.06 2.06-.94-2.06-.94-.94-2.06-.94 2.06-2.06.94z\"/><path d=\"M17.41 7.96l-1.37-1.37c-.4-.4-.92-.59-1.43-.59-.52 0-1.04.2-1.43.59L10.3 9.45l-7.72 7.72c-.78.78-.78 2.05 0 2.83L4 21.41c.39.39.9.59 1.41.59.51 0 1.02-.2 1.41-.59l7.78-7.78 2.81-2.81c.8-.78.8-2.07 0-2.86zM5.41 20L4 18.59l7.72-7.72 1.47 1.35L5.41 20z\"/>\n",
              "  </svg>\n",
              "      </button>\n",
              "      \n",
              "  <style>\n",
              "    .colab-df-container {\n",
              "      display:flex;\n",
              "      flex-wrap:wrap;\n",
              "      gap: 12px;\n",
              "    }\n",
              "\n",
              "    .colab-df-convert {\n",
              "      background-color: #E8F0FE;\n",
              "      border: none;\n",
              "      border-radius: 50%;\n",
              "      cursor: pointer;\n",
              "      display: none;\n",
              "      fill: #1967D2;\n",
              "      height: 32px;\n",
              "      padding: 0 0 0 0;\n",
              "      width: 32px;\n",
              "    }\n",
              "\n",
              "    .colab-df-convert:hover {\n",
              "      background-color: #E2EBFA;\n",
              "      box-shadow: 0px 1px 2px rgba(60, 64, 67, 0.3), 0px 1px 3px 1px rgba(60, 64, 67, 0.15);\n",
              "      fill: #174EA6;\n",
              "    }\n",
              "\n",
              "    [theme=dark] .colab-df-convert {\n",
              "      background-color: #3B4455;\n",
              "      fill: #D2E3FC;\n",
              "    }\n",
              "\n",
              "    [theme=dark] .colab-df-convert:hover {\n",
              "      background-color: #434B5C;\n",
              "      box-shadow: 0px 1px 3px 1px rgba(0, 0, 0, 0.15);\n",
              "      filter: drop-shadow(0px 1px 2px rgba(0, 0, 0, 0.3));\n",
              "      fill: #FFFFFF;\n",
              "    }\n",
              "  </style>\n",
              "\n",
              "      <script>\n",
              "        const buttonEl =\n",
              "          document.querySelector('#df-f3937c61-013a-40e9-a66f-97e4b02c419c button.colab-df-convert');\n",
              "        buttonEl.style.display =\n",
              "          google.colab.kernel.accessAllowed ? 'block' : 'none';\n",
              "\n",
              "        async function convertToInteractive(key) {\n",
              "          const element = document.querySelector('#df-f3937c61-013a-40e9-a66f-97e4b02c419c');\n",
              "          const dataTable =\n",
              "            await google.colab.kernel.invokeFunction('convertToInteractive',\n",
              "                                                     [key], {});\n",
              "          if (!dataTable) return;\n",
              "\n",
              "          const docLinkHtml = 'Like what you see? Visit the ' +\n",
              "            '<a target=\"_blank\" href=https://colab.research.google.com/notebooks/data_table.ipynb>data table notebook</a>'\n",
              "            + ' to learn more about interactive tables.';\n",
              "          element.innerHTML = '';\n",
              "          dataTable['output_type'] = 'display_data';\n",
              "          await google.colab.output.renderOutput(dataTable, element);\n",
              "          const docLink = document.createElement('div');\n",
              "          docLink.innerHTML = docLinkHtml;\n",
              "          element.appendChild(docLink);\n",
              "        }\n",
              "      </script>\n",
              "    </div>\n",
              "  </div>\n",
              "  "
            ]
          },
          "metadata": {},
          "execution_count": 184
        }
      ],
      "source": [
        "# Finding correlation between all numeric features\n",
        "\n",
        "col_names =numeric_features_df.columns\n",
        "features = numeric_features_df.rdd.map(lambda row: row[0:])\n",
        "corr_mat=Statistics.corr(features, method=\"pearson\")\n",
        "corr_df = pd.DataFrame(corr_mat)\n",
        "corr_df.index, corr_df.columns = col_names, col_names\n",
        "\n",
        "corr_df"
      ]
    },
    {
      "cell_type": "code",
      "execution_count": 185,
      "id": "54241969",
      "metadata": {
        "colab": {
          "base_uri": "https://localhost:8080/",
          "height": 360
        },
        "id": "54241969",
        "outputId": "e35a3f9d-d45e-4468-d684-a363c77f9e0d"
      },
      "outputs": [
        {
          "output_type": "execute_result",
          "data": {
            "text/plain": [
              "<matplotlib.axes._subplots.AxesSubplot at 0x7f6fd0bbb050>"
            ]
          },
          "metadata": {},
          "execution_count": 185
        },
        {
          "output_type": "display_data",
          "data": {
            "text/plain": [
              "<Figure size 432x288 with 2 Axes>"
            ],
            "image/png": "[encoded data removed]"
          },
          "metadata": {}
        }
      ],
      "source": [
        "# Creating correlation heatmap\n",
        "sns.set(rc={'axes.facecolor':'black', 'figure.facecolor':'white'})\n",
        "sns.heatmap(corr_df, linewidth = 2)\n"
      ]
    },
    {
      "cell_type": "code",
      "source": [
        "# Dropping highly correlated variables\n",
        "cols = ['emp_var_rate', 'euribor3m']\n",
        "df = df.drop(*cols)"
      ],
      "metadata": {
        "id": "hOslx7xVDNg4"
      },
      "id": "hOslx7xVDNg4",
      "execution_count": 186,
      "outputs": []
    },
    {
      "cell_type": "code",
      "execution_count": 42,
      "id": "c6e52480",
      "metadata": {
        "colab": {
          "base_uri": "https://localhost:8080/",
          "height": 411
        },
        "id": "c6e52480",
        "outputId": "3a928654-eb2b-4e43-df38-4830c0b25de8"
      },
      "outputs": [
        {
          "output_type": "execute_result",
          "data": {
            "text/plain": [
              "<matplotlib.axes._subplots.AxesSubplot at 0x7f6ff1984310>"
            ]
          },
          "metadata": {},
          "execution_count": 42
        },
        {
          "output_type": "display_data",
          "data": {
            "text/plain": [
              "<Figure size 576x432 with 1 Axes>"
            ],
            "image/png": "[encoded data removed]"
          },
          "metadata": {}
        }
      ],
      "source": [
        "# Marital staus with target variable\n",
        "plt.figure(figsize=(8,6))\n",
        "sns.countplot(x= 'marital',data=df_P, palette='rainbow',hue='y')"
      ]
    },
    {
      "cell_type": "code",
      "execution_count": 43,
      "id": "cbfc8db5",
      "metadata": {
        "colab": {
          "base_uri": "https://localhost:8080/",
          "height": 414
        },
        "id": "cbfc8db5",
        "outputId": "5e260b01-ce4c-4319-ca26-7bbde3b9dce6"
      },
      "outputs": [
        {
          "output_type": "execute_result",
          "data": {
            "text/plain": [
              "<matplotlib.axes._subplots.AxesSubplot at 0x7f6fecbac550>"
            ]
          },
          "metadata": {},
          "execution_count": 43
        },
        {
          "output_type": "display_data",
          "data": {
            "text/plain": [
              "<Figure size 576x432 with 1 Axes>"
            ],
            "image/png": "[encoded data removed]"
          },
          "metadata": {}
        }
      ],
      "source": [
        "# Housing staus with target variable\n",
        "plt.figure(figsize=(8,6))\n",
        "sns.countplot(x= 'housing',data=df_P, palette='Paired',hue='y')"
      ]
    },
    {
      "cell_type": "code",
      "execution_count": 44,
      "id": "c5660b37",
      "metadata": {
        "colab": {
          "base_uri": "https://localhost:8080/",
          "height": 411
        },
        "id": "c5660b37",
        "outputId": "d7a19fcc-b77c-4312-83f2-8164aa49263c"
      },
      "outputs": [
        {
          "output_type": "execute_result",
          "data": {
            "text/plain": [
              "<matplotlib.axes._subplots.AxesSubplot at 0x7f6fec9ded90>"
            ]
          },
          "metadata": {},
          "execution_count": 44
        },
        {
          "output_type": "display_data",
          "data": {
            "text/plain": [
              "<Figure size 576x432 with 1 Axes>"
            ],
            "image/png": "[encoded data removed]"
          },
          "metadata": {}
        }
      ],
      "source": [
        "# Bank default status with target variable\n",
        "plt.figure(figsize=(8,6))\n",
        "sns.countplot(x= 'default',data=df_P, palette='rainbow',hue='y')"
      ]
    },
    {
      "cell_type": "code",
      "execution_count": 45,
      "id": "ce195413",
      "metadata": {
        "colab": {
          "base_uri": "https://localhost:8080/",
          "height": 411
        },
        "id": "ce195413",
        "outputId": "08452872-286d-43f8-a7bf-38559ec99ac4"
      },
      "outputs": [
        {
          "output_type": "execute_result",
          "data": {
            "text/plain": [
              "<matplotlib.axes._subplots.AxesSubplot at 0x7f6fec5ecf90>"
            ]
          },
          "metadata": {},
          "execution_count": 45
        },
        {
          "output_type": "display_data",
          "data": {
            "text/plain": [
              "<Figure size 576x432 with 1 Axes>"
            ],
            "image/png": "[encoded data removed]"
          },
          "metadata": {}
        }
      ],
      "source": [
        "# Loan status\n",
        "\n",
        "plt.figure(figsize=(8,6))\n",
        "sns.countplot(x= 'loan',data=df_P,hue='y')"
      ]
    },
    {
      "cell_type": "code",
      "execution_count": 46,
      "id": "7496dc55",
      "metadata": {
        "colab": {
          "base_uri": "https://localhost:8080/",
          "height": 411
        },
        "id": "7496dc55",
        "outputId": "ffcd41c8-4384-4886-aaa7-8070a77ee358"
      },
      "outputs": [
        {
          "output_type": "execute_result",
          "data": {
            "text/plain": [
              "<matplotlib.axes._subplots.AxesSubplot at 0x7f6fec42ac90>"
            ]
          },
          "metadata": {},
          "execution_count": 46
        },
        {
          "output_type": "display_data",
          "data": {
            "text/plain": [
              "<Figure size 576x432 with 1 Axes>"
            ],
            "image/png": "[encoded data removed]"
          },
          "metadata": {}
        }
      ],
      "source": [
        "# Marital staus with target variable\n",
        "plt.figure(figsize=(8,6))\n",
        "sns.countplot(x= 'contact',data=df_P, palette='tab10',hue='y')"
      ]
    },
    {
      "cell_type": "code",
      "execution_count": 47,
      "id": "81296ebf",
      "metadata": {
        "colab": {
          "base_uri": "https://localhost:8080/",
          "height": 411
        },
        "id": "81296ebf",
        "outputId": "ed9a51d0-cee6-4d1e-bdbd-030d6e003739"
      },
      "outputs": [
        {
          "output_type": "execute_result",
          "data": {
            "text/plain": [
              "<matplotlib.axes._subplots.AxesSubplot at 0x7f6fec841c10>"
            ]
          },
          "metadata": {},
          "execution_count": 47
        },
        {
          "output_type": "display_data",
          "data": {
            "text/plain": [
              "<Figure size 576x432 with 1 Axes>"
            ],
            "image/png": "[encoded data removed]"
          },
          "metadata": {}
        }
      ],
      "source": [
        "# Marital staus with target variable\n",
        "plt.figure(figsize=(8,6))\n",
        "sns.countplot(x= 'poutcome',data=df_P, palette='husl',hue='y')"
      ]
    },
    {
      "cell_type": "code",
      "execution_count": 48,
      "id": "d472e95f",
      "metadata": {
        "colab": {
          "base_uri": "https://localhost:8080/",
          "height": 414
        },
        "id": "d472e95f",
        "outputId": "4c4617cf-b9aa-4680-a717-0a6c649f572c"
      },
      "outputs": [
        {
          "output_type": "execute_result",
          "data": {
            "text/plain": [
              "<matplotlib.axes._subplots.AxesSubplot at 0x7f6fecb0a190>"
            ]
          },
          "metadata": {},
          "execution_count": 48
        },
        {
          "output_type": "display_data",
          "data": {
            "text/plain": [
              "<Figure size 576x432 with 1 Axes>"
            ],
            "image/png": "[encoded data removed]"
          },
          "metadata": {}
        }
      ],
      "source": [
        "# Marital staus with target variable\n",
        "plt.figure(figsize=(8,6))\n",
        "sns.countplot(x= 'housing',data=df_P, palette='rainbow',hue='y')"
      ]
    },
    {
      "cell_type": "code",
      "execution_count": 49,
      "id": "e5e865a7",
      "metadata": {
        "colab": {
          "base_uri": "https://localhost:8080/",
          "height": 411
        },
        "id": "e5e865a7",
        "outputId": "3f0371f3-ce43-445c-96cf-120b623c9cbc"
      },
      "outputs": [
        {
          "output_type": "execute_result",
          "data": {
            "text/plain": [
              "<matplotlib.axes._subplots.AxesSubplot at 0x7f6fec398650>"
            ]
          },
          "metadata": {},
          "execution_count": 49
        },
        {
          "output_type": "display_data",
          "data": {
            "text/plain": [
              "<Figure size 576x432 with 1 Axes>"
            ],
            "image/png": "[encoded data removed]"
          },
          "metadata": {}
        }
      ],
      "source": [
        "# pdays with target variable\n",
        "plt.figure(figsize=(8,6))\n",
        "sns.countplot(x= 'pdays_label',data=df_P, palette='rainbow',hue='y')"
      ]
    },
    {
      "cell_type": "code",
      "execution_count": 50,
      "id": "6739eabb",
      "metadata": {
        "colab": {
          "base_uri": "https://localhost:8080/",
          "height": 193
        },
        "id": "6739eabb",
        "outputId": "c9e29683-5b47-4d79-d310-25bf2f50bd44"
      },
      "outputs": [
        {
          "output_type": "execute_result",
          "data": {
            "text/plain": [
              "job_y  housemaid  services  self-employed  student  retired  unknown  admin.  \\\n",
              "no           954      3646           1272      600     1286      293    9070   \n",
              "yes          106       323            149      275      434       37    1352   \n",
              "\n",
              "job_y  blue-collar  technician  entrepreneur  management  unemployed  \n",
              "no            8616        6013          1332        2596         870  \n",
              "yes            638         730           124         328         144  "
            ],
            "text/html": [
              "\n",
              "  <div id=\"df-ce1a91e6-16f9-44dd-b9f5-449562bb6ed9\">\n",
              "    <div class=\"colab-df-container\">\n",
              "      <div>\n",
              "<style scoped>\n",
              "    .dataframe tbody tr th:only-of-type {\n",
              "        vertical-align: middle;\n",
              "    }\n",
              "\n",
              "    .dataframe tbody tr th {\n",
              "        vertical-align: top;\n",
              "    }\n",
              "\n",
              "    .dataframe thead th {\n",
              "        text-align: right;\n",
              "    }\n",
              "</style>\n",
              "<table border=\"1\" class=\"dataframe\">\n",
              "  <thead>\n",
              "    <tr style=\"text-align: right;\">\n",
              "      <th>job_y</th>\n",
              "      <th>housemaid</th>\n",
              "      <th>services</th>\n",
              "      <th>self-employed</th>\n",
              "      <th>student</th>\n",
              "      <th>retired</th>\n",
              "      <th>unknown</th>\n",
              "      <th>admin.</th>\n",
              "      <th>blue-collar</th>\n",
              "      <th>technician</th>\n",
              "      <th>entrepreneur</th>\n",
              "      <th>management</th>\n",
              "      <th>unemployed</th>\n",
              "    </tr>\n",
              "  </thead>\n",
              "  <tbody>\n",
              "    <tr>\n",
              "      <th>no</th>\n",
              "      <td>954</td>\n",
              "      <td>3646</td>\n",
              "      <td>1272</td>\n",
              "      <td>600</td>\n",
              "      <td>1286</td>\n",
              "      <td>293</td>\n",
              "      <td>9070</td>\n",
              "      <td>8616</td>\n",
              "      <td>6013</td>\n",
              "      <td>1332</td>\n",
              "      <td>2596</td>\n",
              "      <td>870</td>\n",
              "    </tr>\n",
              "    <tr>\n",
              "      <th>yes</th>\n",
              "      <td>106</td>\n",
              "      <td>323</td>\n",
              "      <td>149</td>\n",
              "      <td>275</td>\n",
              "      <td>434</td>\n",
              "      <td>37</td>\n",
              "      <td>1352</td>\n",
              "      <td>638</td>\n",
              "      <td>730</td>\n",
              "      <td>124</td>\n",
              "      <td>328</td>\n",
              "      <td>144</td>\n",
              "    </tr>\n",
              "  </tbody>\n",
              "</table>\n",
              "</div>\n",
              "      <button class=\"colab-df-convert\" onclick=\"convertToInteractive('df-ce1a91e6-16f9-44dd-b9f5-449562bb6ed9')\"\n",
              "              title=\"Convert this dataframe to an interactive table.\"\n",
              "              style=\"display:none;\">\n",
              "        \n",
              "  <svg xmlns=\"http://www.w3.org/2000/svg\" height=\"24px\"viewBox=\"0 0 24 24\"\n",
              "       width=\"24px\">\n",
              "    <path d=\"M0 0h24v24H0V0z\" fill=\"none\"/>\n",
              "    <path d=\"M18.56 5.44l.94 2.06.94-2.06 2.06-.94-2.06-.94-.94-2.06-.94 2.06-2.06.94zm-11 1L8.5 8.5l.94-2.06 2.06-.94-2.06-.94L8.5 2.5l-.94 2.06-2.06.94zm10 10l.94 2.06.94-2.06 2.06-.94-2.06-.94-.94-2.06-.94 2.06-2.06.94z\"/><path d=\"M17.41 7.96l-1.37-1.37c-.4-.4-.92-.59-1.43-.59-.52 0-1.04.2-1.43.59L10.3 9.45l-7.72 7.72c-.78.78-.78 2.05 0 2.83L4 21.41c.39.39.9.59 1.41.59.51 0 1.02-.2 1.41-.59l7.78-7.78 2.81-2.81c.8-.78.8-2.07 0-2.86zM5.41 20L4 18.59l7.72-7.72 1.47 1.35L5.41 20z\"/>\n",
              "  </svg>\n",
              "      </button>\n",
              "      \n",
              "  <style>\n",
              "    .colab-df-container {\n",
              "      display:flex;\n",
              "      flex-wrap:wrap;\n",
              "      gap: 12px;\n",
              "    }\n",
              "\n",
              "    .colab-df-convert {\n",
              "      background-color: #E8F0FE;\n",
              "      border: none;\n",
              "      border-radius: 50%;\n",
              "      cursor: pointer;\n",
              "      display: none;\n",
              "      fill: #1967D2;\n",
              "      height: 32px;\n",
              "      padding: 0 0 0 0;\n",
              "      width: 32px;\n",
              "    }\n",
              "\n",
              "    .colab-df-convert:hover {\n",
              "      background-color: #E2EBFA;\n",
              "      box-shadow: 0px 1px 2px rgba(60, 64, 67, 0.3), 0px 1px 3px 1px rgba(60, 64, 67, 0.15);\n",
              "      fill: #174EA6;\n",
              "    }\n",
              "\n",
              "    [theme=dark] .colab-df-convert {\n",
              "      background-color: #3B4455;\n",
              "      fill: #D2E3FC;\n",
              "    }\n",
              "\n",
              "    [theme=dark] .colab-df-convert:hover {\n",
              "      background-color: #434B5C;\n",
              "      box-shadow: 0px 1px 3px 1px rgba(0, 0, 0, 0.15);\n",
              "      filter: drop-shadow(0px 1px 2px rgba(0, 0, 0, 0.3));\n",
              "      fill: #FFFFFF;\n",
              "    }\n",
              "  </style>\n",
              "\n",
              "      <script>\n",
              "        const buttonEl =\n",
              "          document.querySelector('#df-ce1a91e6-16f9-44dd-b9f5-449562bb6ed9 button.colab-df-convert');\n",
              "        buttonEl.style.display =\n",
              "          google.colab.kernel.accessAllowed ? 'block' : 'none';\n",
              "\n",
              "        async function convertToInteractive(key) {\n",
              "          const element = document.querySelector('#df-ce1a91e6-16f9-44dd-b9f5-449562bb6ed9');\n",
              "          const dataTable =\n",
              "            await google.colab.kernel.invokeFunction('convertToInteractive',\n",
              "                                                     [key], {});\n",
              "          if (!dataTable) return;\n",
              "\n",
              "          const docLinkHtml = 'Like what you see? Visit the ' +\n",
              "            '<a target=\"_blank\" href=https://colab.research.google.com/notebooks/data_table.ipynb>data table notebook</a>'\n",
              "            + ' to learn more about interactive tables.';\n",
              "          element.innerHTML = '';\n",
              "          dataTable['output_type'] = 'display_data';\n",
              "          await google.colab.output.renderOutput(dataTable, element);\n",
              "          const docLink = document.createElement('div');\n",
              "          docLink.innerHTML = docLinkHtml;\n",
              "          element.appendChild(docLink);\n",
              "        }\n",
              "      </script>\n",
              "    </div>\n",
              "  </div>\n",
              "  "
            ]
          },
          "metadata": {},
          "execution_count": 50
        }
      ],
      "source": [
        "df.crosstab('job','y').toPandas().set_index('job_y').transpose()"
      ]
    },
    {
      "cell_type": "code",
      "execution_count": 51,
      "id": "ce47681d",
      "metadata": {
        "colab": {
          "base_uri": "https://localhost:8080/",
          "height": 112
        },
        "id": "ce47681d",
        "outputId": "fef83613-14ab-40bc-d152-13eda3ee4169"
      },
      "outputs": [
        {
          "output_type": "execute_result",
          "data": {
            "text/plain": [
              "education_y  basic.9y  basic.4y  high.school  unknown  basic.6y  \\\n",
              "no               5572      3748         8484     1480      2104   \n",
              "yes               473       428         1031      251       188   \n",
              "\n",
              "education_y  professional.course  university.degree  illiterate  \n",
              "no                          4648              10498          14  \n",
              "yes                          595               1670           4  "
            ],
            "text/html": [
              "\n",
              "  <div id=\"df-220c663f-71a3-442d-8784-c6500d1d5912\">\n",
              "    <div class=\"colab-df-container\">\n",
              "      <div>\n",
              "<style scoped>\n",
              "    .dataframe tbody tr th:only-of-type {\n",
              "        vertical-align: middle;\n",
              "    }\n",
              "\n",
              "    .dataframe tbody tr th {\n",
              "        vertical-align: top;\n",
              "    }\n",
              "\n",
              "    .dataframe thead th {\n",
              "        text-align: right;\n",
              "    }\n",
              "</style>\n",
              "<table border=\"1\" class=\"dataframe\">\n",
              "  <thead>\n",
              "    <tr style=\"text-align: right;\">\n",
              "      <th>education_y</th>\n",
              "      <th>basic.9y</th>\n",
              "      <th>basic.4y</th>\n",
              "      <th>high.school</th>\n",
              "      <th>unknown</th>\n",
              "      <th>basic.6y</th>\n",
              "      <th>professional.course</th>\n",
              "      <th>university.degree</th>\n",
              "      <th>illiterate</th>\n",
              "    </tr>\n",
              "  </thead>\n",
              "  <tbody>\n",
              "    <tr>\n",
              "      <th>no</th>\n",
              "      <td>5572</td>\n",
              "      <td>3748</td>\n",
              "      <td>8484</td>\n",
              "      <td>1480</td>\n",
              "      <td>2104</td>\n",
              "      <td>4648</td>\n",
              "      <td>10498</td>\n",
              "      <td>14</td>\n",
              "    </tr>\n",
              "    <tr>\n",
              "      <th>yes</th>\n",
              "      <td>473</td>\n",
              "      <td>428</td>\n",
              "      <td>1031</td>\n",
              "      <td>251</td>\n",
              "      <td>188</td>\n",
              "      <td>595</td>\n",
              "      <td>1670</td>\n",
              "      <td>4</td>\n",
              "    </tr>\n",
              "  </tbody>\n",
              "</table>\n",
              "</div>\n",
              "      <button class=\"colab-df-convert\" onclick=\"convertToInteractive('df-220c663f-71a3-442d-8784-c6500d1d5912')\"\n",
              "              title=\"Convert this dataframe to an interactive table.\"\n",
              "              style=\"display:none;\">\n",
              "        \n",
              "  <svg xmlns=\"http://www.w3.org/2000/svg\" height=\"24px\"viewBox=\"0 0 24 24\"\n",
              "       width=\"24px\">\n",
              "    <path d=\"M0 0h24v24H0V0z\" fill=\"none\"/>\n",
              "    <path d=\"M18.56 5.44l.94 2.06.94-2.06 2.06-.94-2.06-.94-.94-2.06-.94 2.06-2.06.94zm-11 1L8.5 8.5l.94-2.06 2.06-.94-2.06-.94L8.5 2.5l-.94 2.06-2.06.94zm10 10l.94 2.06.94-2.06 2.06-.94-2.06-.94-.94-2.06-.94 2.06-2.06.94z\"/><path d=\"M17.41 7.96l-1.37-1.37c-.4-.4-.92-.59-1.43-.59-.52 0-1.04.2-1.43.59L10.3 9.45l-7.72 7.72c-.78.78-.78 2.05 0 2.83L4 21.41c.39.39.9.59 1.41.59.51 0 1.02-.2 1.41-.59l7.78-7.78 2.81-2.81c.8-.78.8-2.07 0-2.86zM5.41 20L4 18.59l7.72-7.72 1.47 1.35L5.41 20z\"/>\n",
              "  </svg>\n",
              "      </button>\n",
              "      \n",
              "  <style>\n",
              "    .colab-df-container {\n",
              "      display:flex;\n",
              "      flex-wrap:wrap;\n",
              "      gap: 12px;\n",
              "    }\n",
              "\n",
              "    .colab-df-convert {\n",
              "      background-color: #E8F0FE;\n",
              "      border: none;\n",
              "      border-radius: 50%;\n",
              "      cursor: pointer;\n",
              "      display: none;\n",
              "      fill: #1967D2;\n",
              "      height: 32px;\n",
              "      padding: 0 0 0 0;\n",
              "      width: 32px;\n",
              "    }\n",
              "\n",
              "    .colab-df-convert:hover {\n",
              "      background-color: #E2EBFA;\n",
              "      box-shadow: 0px 1px 2px rgba(60, 64, 67, 0.3), 0px 1px 3px 1px rgba(60, 64, 67, 0.15);\n",
              "      fill: #174EA6;\n",
              "    }\n",
              "\n",
              "    [theme=dark] .colab-df-convert {\n",
              "      background-color: #3B4455;\n",
              "      fill: #D2E3FC;\n",
              "    }\n",
              "\n",
              "    [theme=dark] .colab-df-convert:hover {\n",
              "      background-color: #434B5C;\n",
              "      box-shadow: 0px 1px 3px 1px rgba(0, 0, 0, 0.15);\n",
              "      filter: drop-shadow(0px 1px 2px rgba(0, 0, 0, 0.3));\n",
              "      fill: #FFFFFF;\n",
              "    }\n",
              "  </style>\n",
              "\n",
              "      <script>\n",
              "        const buttonEl =\n",
              "          document.querySelector('#df-220c663f-71a3-442d-8784-c6500d1d5912 button.colab-df-convert');\n",
              "        buttonEl.style.display =\n",
              "          google.colab.kernel.accessAllowed ? 'block' : 'none';\n",
              "\n",
              "        async function convertToInteractive(key) {\n",
              "          const element = document.querySelector('#df-220c663f-71a3-442d-8784-c6500d1d5912');\n",
              "          const dataTable =\n",
              "            await google.colab.kernel.invokeFunction('convertToInteractive',\n",
              "                                                     [key], {});\n",
              "          if (!dataTable) return;\n",
              "\n",
              "          const docLinkHtml = 'Like what you see? Visit the ' +\n",
              "            '<a target=\"_blank\" href=https://colab.research.google.com/notebooks/data_table.ipynb>data table notebook</a>'\n",
              "            + ' to learn more about interactive tables.';\n",
              "          element.innerHTML = '';\n",
              "          dataTable['output_type'] = 'display_data';\n",
              "          await google.colab.output.renderOutput(dataTable, element);\n",
              "          const docLink = document.createElement('div');\n",
              "          docLink.innerHTML = docLinkHtml;\n",
              "          element.appendChild(docLink);\n",
              "        }\n",
              "      </script>\n",
              "    </div>\n",
              "  </div>\n",
              "  "
            ]
          },
          "metadata": {},
          "execution_count": 51
        }
      ],
      "source": [
        "df.crosstab('education','y').toPandas().set_index('education_y').transpose()"
      ]
    },
    {
      "cell_type": "code",
      "execution_count": 52,
      "id": "7772f8ca",
      "metadata": {
        "colab": {
          "base_uri": "https://localhost:8080/",
          "height": 112
        },
        "id": "7772f8ca",
        "outputId": "5b6c97e1-482e-4f29-879a-6852a309d3a4"
      },
      "outputs": [
        {
          "output_type": "execute_result",
          "data": {
            "text/plain": [
              "month_y   jul   nov   apr  oct  sep   jun  mar   aug  dec    may\n",
              "no       6525  3685  2093  403  314  4759  270  5523   93  12883\n",
              "yes       649   416   539  315  256   559  276   655   89    886"
            ],
            "text/html": [
              "\n",
              "  <div id=\"df-6c6bef3f-dae0-42de-8b4d-fa10c089bdc0\">\n",
              "    <div class=\"colab-df-container\">\n",
              "      <div>\n",
              "<style scoped>\n",
              "    .dataframe tbody tr th:only-of-type {\n",
              "        vertical-align: middle;\n",
              "    }\n",
              "\n",
              "    .dataframe tbody tr th {\n",
              "        vertical-align: top;\n",
              "    }\n",
              "\n",
              "    .dataframe thead th {\n",
              "        text-align: right;\n",
              "    }\n",
              "</style>\n",
              "<table border=\"1\" class=\"dataframe\">\n",
              "  <thead>\n",
              "    <tr style=\"text-align: right;\">\n",
              "      <th>month_y</th>\n",
              "      <th>jul</th>\n",
              "      <th>nov</th>\n",
              "      <th>apr</th>\n",
              "      <th>oct</th>\n",
              "      <th>sep</th>\n",
              "      <th>jun</th>\n",
              "      <th>mar</th>\n",
              "      <th>aug</th>\n",
              "      <th>dec</th>\n",
              "      <th>may</th>\n",
              "    </tr>\n",
              "  </thead>\n",
              "  <tbody>\n",
              "    <tr>\n",
              "      <th>no</th>\n",
              "      <td>6525</td>\n",
              "      <td>3685</td>\n",
              "      <td>2093</td>\n",
              "      <td>403</td>\n",
              "      <td>314</td>\n",
              "      <td>4759</td>\n",
              "      <td>270</td>\n",
              "      <td>5523</td>\n",
              "      <td>93</td>\n",
              "      <td>12883</td>\n",
              "    </tr>\n",
              "    <tr>\n",
              "      <th>yes</th>\n",
              "      <td>649</td>\n",
              "      <td>416</td>\n",
              "      <td>539</td>\n",
              "      <td>315</td>\n",
              "      <td>256</td>\n",
              "      <td>559</td>\n",
              "      <td>276</td>\n",
              "      <td>655</td>\n",
              "      <td>89</td>\n",
              "      <td>886</td>\n",
              "    </tr>\n",
              "  </tbody>\n",
              "</table>\n",
              "</div>\n",
              "      <button class=\"colab-df-convert\" onclick=\"convertToInteractive('df-6c6bef3f-dae0-42de-8b4d-fa10c089bdc0')\"\n",
              "              title=\"Convert this dataframe to an interactive table.\"\n",
              "              style=\"display:none;\">\n",
              "        \n",
              "  <svg xmlns=\"http://www.w3.org/2000/svg\" height=\"24px\"viewBox=\"0 0 24 24\"\n",
              "       width=\"24px\">\n",
              "    <path d=\"M0 0h24v24H0V0z\" fill=\"none\"/>\n",
              "    <path d=\"M18.56 5.44l.94 2.06.94-2.06 2.06-.94-2.06-.94-.94-2.06-.94 2.06-2.06.94zm-11 1L8.5 8.5l.94-2.06 2.06-.94-2.06-.94L8.5 2.5l-.94 2.06-2.06.94zm10 10l.94 2.06.94-2.06 2.06-.94-2.06-.94-.94-2.06-.94 2.06-2.06.94z\"/><path d=\"M17.41 7.96l-1.37-1.37c-.4-.4-.92-.59-1.43-.59-.52 0-1.04.2-1.43.59L10.3 9.45l-7.72 7.72c-.78.78-.78 2.05 0 2.83L4 21.41c.39.39.9.59 1.41.59.51 0 1.02-.2 1.41-.59l7.78-7.78 2.81-2.81c.8-.78.8-2.07 0-2.86zM5.41 20L4 18.59l7.72-7.72 1.47 1.35L5.41 20z\"/>\n",
              "  </svg>\n",
              "      </button>\n",
              "      \n",
              "  <style>\n",
              "    .colab-df-container {\n",
              "      display:flex;\n",
              "      flex-wrap:wrap;\n",
              "      gap: 12px;\n",
              "    }\n",
              "\n",
              "    .colab-df-convert {\n",
              "      background-color: #E8F0FE;\n",
              "      border: none;\n",
              "      border-radius: 50%;\n",
              "      cursor: pointer;\n",
              "      display: none;\n",
              "      fill: #1967D2;\n",
              "      height: 32px;\n",
              "      padding: 0 0 0 0;\n",
              "      width: 32px;\n",
              "    }\n",
              "\n",
              "    .colab-df-convert:hover {\n",
              "      background-color: #E2EBFA;\n",
              "      box-shadow: 0px 1px 2px rgba(60, 64, 67, 0.3), 0px 1px 3px 1px rgba(60, 64, 67, 0.15);\n",
              "      fill: #174EA6;\n",
              "    }\n",
              "\n",
              "    [theme=dark] .colab-df-convert {\n",
              "      background-color: #3B4455;\n",
              "      fill: #D2E3FC;\n",
              "    }\n",
              "\n",
              "    [theme=dark] .colab-df-convert:hover {\n",
              "      background-color: #434B5C;\n",
              "      box-shadow: 0px 1px 3px 1px rgba(0, 0, 0, 0.15);\n",
              "      filter: drop-shadow(0px 1px 2px rgba(0, 0, 0, 0.3));\n",
              "      fill: #FFFFFF;\n",
              "    }\n",
              "  </style>\n",
              "\n",
              "      <script>\n",
              "        const buttonEl =\n",
              "          document.querySelector('#df-6c6bef3f-dae0-42de-8b4d-fa10c089bdc0 button.colab-df-convert');\n",
              "        buttonEl.style.display =\n",
              "          google.colab.kernel.accessAllowed ? 'block' : 'none';\n",
              "\n",
              "        async function convertToInteractive(key) {\n",
              "          const element = document.querySelector('#df-6c6bef3f-dae0-42de-8b4d-fa10c089bdc0');\n",
              "          const dataTable =\n",
              "            await google.colab.kernel.invokeFunction('convertToInteractive',\n",
              "                                                     [key], {});\n",
              "          if (!dataTable) return;\n",
              "\n",
              "          const docLinkHtml = 'Like what you see? Visit the ' +\n",
              "            '<a target=\"_blank\" href=https://colab.research.google.com/notebooks/data_table.ipynb>data table notebook</a>'\n",
              "            + ' to learn more about interactive tables.';\n",
              "          element.innerHTML = '';\n",
              "          dataTable['output_type'] = 'display_data';\n",
              "          await google.colab.output.renderOutput(dataTable, element);\n",
              "          const docLink = document.createElement('div');\n",
              "          docLink.innerHTML = docLinkHtml;\n",
              "          element.appendChild(docLink);\n",
              "        }\n",
              "      </script>\n",
              "    </div>\n",
              "  </div>\n",
              "  "
            ]
          },
          "metadata": {},
          "execution_count": 52
        }
      ],
      "source": [
        "df.crosstab('month','y').toPandas().set_index('month_y').transpose()"
      ]
    },
    {
      "cell_type": "code",
      "execution_count": 53,
      "id": "42b66a4e",
      "metadata": {
        "colab": {
          "base_uri": "https://localhost:8080/",
          "height": 112
        },
        "id": "42b66a4e",
        "outputId": "4f17a748-d98c-4f73-9fef-c8c61f66ba99"
      },
      "outputs": [
        {
          "output_type": "execute_result",
          "data": {
            "text/plain": [
              "day_of_week_y   mon   thu   tue   fri   wed\n",
              "no             7667  7578  7137  6981  7185\n",
              "yes             847  1045   953   846   949"
            ],
            "text/html": [
              "\n",
              "  <div id=\"df-78ebdd1b-df4a-419c-ba0c-b346b972144f\">\n",
              "    <div class=\"colab-df-container\">\n",
              "      <div>\n",
              "<style scoped>\n",
              "    .dataframe tbody tr th:only-of-type {\n",
              "        vertical-align: middle;\n",
              "    }\n",
              "\n",
              "    .dataframe tbody tr th {\n",
              "        vertical-align: top;\n",
              "    }\n",
              "\n",
              "    .dataframe thead th {\n",
              "        text-align: right;\n",
              "    }\n",
              "</style>\n",
              "<table border=\"1\" class=\"dataframe\">\n",
              "  <thead>\n",
              "    <tr style=\"text-align: right;\">\n",
              "      <th>day_of_week_y</th>\n",
              "      <th>mon</th>\n",
              "      <th>thu</th>\n",
              "      <th>tue</th>\n",
              "      <th>fri</th>\n",
              "      <th>wed</th>\n",
              "    </tr>\n",
              "  </thead>\n",
              "  <tbody>\n",
              "    <tr>\n",
              "      <th>no</th>\n",
              "      <td>7667</td>\n",
              "      <td>7578</td>\n",
              "      <td>7137</td>\n",
              "      <td>6981</td>\n",
              "      <td>7185</td>\n",
              "    </tr>\n",
              "    <tr>\n",
              "      <th>yes</th>\n",
              "      <td>847</td>\n",
              "      <td>1045</td>\n",
              "      <td>953</td>\n",
              "      <td>846</td>\n",
              "      <td>949</td>\n",
              "    </tr>\n",
              "  </tbody>\n",
              "</table>\n",
              "</div>\n",
              "      <button class=\"colab-df-convert\" onclick=\"convertToInteractive('df-78ebdd1b-df4a-419c-ba0c-b346b972144f')\"\n",
              "              title=\"Convert this dataframe to an interactive table.\"\n",
              "              style=\"display:none;\">\n",
              "        \n",
              "  <svg xmlns=\"http://www.w3.org/2000/svg\" height=\"24px\"viewBox=\"0 0 24 24\"\n",
              "       width=\"24px\">\n",
              "    <path d=\"M0 0h24v24H0V0z\" fill=\"none\"/>\n",
              "    <path d=\"M18.56 5.44l.94 2.06.94-2.06 2.06-.94-2.06-.94-.94-2.06-.94 2.06-2.06.94zm-11 1L8.5 8.5l.94-2.06 2.06-.94-2.06-.94L8.5 2.5l-.94 2.06-2.06.94zm10 10l.94 2.06.94-2.06 2.06-.94-2.06-.94-.94-2.06-.94 2.06-2.06.94z\"/><path d=\"M17.41 7.96l-1.37-1.37c-.4-.4-.92-.59-1.43-.59-.52 0-1.04.2-1.43.59L10.3 9.45l-7.72 7.72c-.78.78-.78 2.05 0 2.83L4 21.41c.39.39.9.59 1.41.59.51 0 1.02-.2 1.41-.59l7.78-7.78 2.81-2.81c.8-.78.8-2.07 0-2.86zM5.41 20L4 18.59l7.72-7.72 1.47 1.35L5.41 20z\"/>\n",
              "  </svg>\n",
              "      </button>\n",
              "      \n",
              "  <style>\n",
              "    .colab-df-container {\n",
              "      display:flex;\n",
              "      flex-wrap:wrap;\n",
              "      gap: 12px;\n",
              "    }\n",
              "\n",
              "    .colab-df-convert {\n",
              "      background-color: #E8F0FE;\n",
              "      border: none;\n",
              "      border-radius: 50%;\n",
              "      cursor: pointer;\n",
              "      display: none;\n",
              "      fill: #1967D2;\n",
              "      height: 32px;\n",
              "      padding: 0 0 0 0;\n",
              "      width: 32px;\n",
              "    }\n",
              "\n",
              "    .colab-df-convert:hover {\n",
              "      background-color: #E2EBFA;\n",
              "      box-shadow: 0px 1px 2px rgba(60, 64, 67, 0.3), 0px 1px 3px 1px rgba(60, 64, 67, 0.15);\n",
              "      fill: #174EA6;\n",
              "    }\n",
              "\n",
              "    [theme=dark] .colab-df-convert {\n",
              "      background-color: #3B4455;\n",
              "      fill: #D2E3FC;\n",
              "    }\n",
              "\n",
              "    [theme=dark] .colab-df-convert:hover {\n",
              "      background-color: #434B5C;\n",
              "      box-shadow: 0px 1px 3px 1px rgba(0, 0, 0, 0.15);\n",
              "      filter: drop-shadow(0px 1px 2px rgba(0, 0, 0, 0.3));\n",
              "      fill: #FFFFFF;\n",
              "    }\n",
              "  </style>\n",
              "\n",
              "      <script>\n",
              "        const buttonEl =\n",
              "          document.querySelector('#df-78ebdd1b-df4a-419c-ba0c-b346b972144f button.colab-df-convert');\n",
              "        buttonEl.style.display =\n",
              "          google.colab.kernel.accessAllowed ? 'block' : 'none';\n",
              "\n",
              "        async function convertToInteractive(key) {\n",
              "          const element = document.querySelector('#df-78ebdd1b-df4a-419c-ba0c-b346b972144f');\n",
              "          const dataTable =\n",
              "            await google.colab.kernel.invokeFunction('convertToInteractive',\n",
              "                                                     [key], {});\n",
              "          if (!dataTable) return;\n",
              "\n",
              "          const docLinkHtml = 'Like what you see? Visit the ' +\n",
              "            '<a target=\"_blank\" href=https://colab.research.google.com/notebooks/data_table.ipynb>data table notebook</a>'\n",
              "            + ' to learn more about interactive tables.';\n",
              "          element.innerHTML = '';\n",
              "          dataTable['output_type'] = 'display_data';\n",
              "          await google.colab.output.renderOutput(dataTable, element);\n",
              "          const docLink = document.createElement('div');\n",
              "          docLink.innerHTML = docLinkHtml;\n",
              "          element.appendChild(docLink);\n",
              "        }\n",
              "      </script>\n",
              "    </div>\n",
              "  </div>\n",
              "  "
            ]
          },
          "metadata": {},
          "execution_count": 53
        }
      ],
      "source": [
        "df.crosstab('day_of_week','y').toPandas().set_index('day_of_week_y').transpose()"
      ]
    },
    {
      "cell_type": "code",
      "source": [
        "# Univariate analysis of numeric variable\n",
        "df_P = df.toPandas()\n",
        "sns.FacetGrid(df_P , hue ='y', size=5).map(sns.distplot, \"previous\").add_legend()"
      ],
      "metadata": {
        "colab": {
          "base_uri": "https://localhost:8080/",
          "height": 506
        },
        "id": "E2TuG8P7DVvo",
        "outputId": "faf53e48-3b81-42ca-af7d-456461a044ea"
      },
      "id": "E2TuG8P7DVvo",
      "execution_count": 187,
      "outputs": [
        {
          "output_type": "stream",
          "name": "stderr",
          "text": [
            "/usr/local/lib/python3.7/dist-packages/seaborn/axisgrid.py:337: UserWarning: The `size` parameter has been renamed to `height`; please update your code.\n",
            "  warnings.warn(msg, UserWarning)\n",
            "/usr/local/lib/python3.7/dist-packages/seaborn/distributions.py:2619: FutureWarning: `distplot` is a deprecated function and will be removed in a future version. Please adapt your code to use either `displot` (a figure-level function with similar flexibility) or `histplot` (an axes-level function for histograms).\n",
            "  warnings.warn(msg, FutureWarning)\n",
            "/usr/local/lib/python3.7/dist-packages/seaborn/distributions.py:2619: FutureWarning: `distplot` is a deprecated function and will be removed in a future version. Please adapt your code to use either `displot` (a figure-level function with similar flexibility) or `histplot` (an axes-level function for histograms).\n",
            "  warnings.warn(msg, FutureWarning)\n"
          ]
        },
        {
          "output_type": "execute_result",
          "data": {
            "text/plain": [
              "<seaborn.axisgrid.FacetGrid at 0x7f6fee4b7990>"
            ]
          },
          "metadata": {},
          "execution_count": 187
        },
        {
          "output_type": "display_data",
          "data": {
            "text/plain": [
              "<Figure size 418.725x360 with 1 Axes>"
            ],
            "image/png": "[encoded data removed]"
          },
          "metadata": {}
        }
      ]
    },
    {
      "cell_type": "code",
      "source": [
        "sns.boxplot(x = 'y', y = 'duration', data=df_P)\n",
        "plt.show()"
      ],
      "metadata": {
        "colab": {
          "base_uri": "https://localhost:8080/",
          "height": 285
        },
        "id": "zbq3zVoeDbuN",
        "outputId": "2008b309-8de2-44e5-8f29-14779a7fdb35"
      },
      "id": "zbq3zVoeDbuN",
      "execution_count": 188,
      "outputs": [
        {
          "output_type": "display_data",
          "data": {
            "text/plain": [
              "<Figure size 432x288 with 1 Axes>"
            ],
            "image/png": "[encoded data removed]"
          },
          "metadata": {}
        }
      ]
    },
    {
      "cell_type": "code",
      "execution_count": 54,
      "id": "03cd5a3f",
      "metadata": {
        "id": "03cd5a3f"
      },
      "outputs": [],
      "source": [
        "df1 = df.toPandas()\n",
        "df1.to_csv('cleaned_df.csv')"
      ]
    },
    {
      "cell_type": "markdown",
      "id": "d528e81f",
      "metadata": {
        "id": "d528e81f"
      },
      "source": [
        "## Modelling"
      ]
    },
    {
      "cell_type": "markdown",
      "id": "37bf28d9",
      "metadata": {
        "id": "37bf28d9"
      },
      "source": [
        "### Data Preparation"
      ]
    },
    {
      "cell_type": "code",
      "execution_count": 140,
      "id": "d74dfc44",
      "metadata": {
        "colab": {
          "base_uri": "https://localhost:8080/"
        },
        "id": "d74dfc44",
        "outputId": "73a4e690-7dbb-4522-a74e-086745801a61"
      },
      "outputs": [
        {
          "output_type": "stream",
          "name": "stdout",
          "text": [
            "There are 41188 rows 19 columns in the data.\n"
          ]
        }
      ],
      "source": [
        "## Reading processed dataset\n",
        "\n",
        "df=spark.read \\\n",
        " .option(\"header\",\"True\")\\\n",
        " .option(\"inferSchema\",\"True\")\\\n",
        " .option(\"sep\",\",\")\\\n",
        " .csv(\"/content/drive/MyDrive/Mini Project 2/final_data.csv\")\n",
        "print(\"There are\",df.count(),\"rows\",len(df.columns),\n",
        "      \"columns\" ,\"in the data.\") \n"
      ]
    },
    {
      "cell_type": "code",
      "execution_count": 141,
      "id": "ca976bf8",
      "metadata": {
        "colab": {
          "base_uri": "https://localhost:8080/"
        },
        "id": "ca976bf8",
        "outputId": "218ef160-38c6-43e2-aac0-8b25b4b7e955"
      },
      "outputs": [
        {
          "output_type": "stream",
          "name": "stdout",
          "text": [
            "['duration', 'campaign', 'previous', 'cons_price_idx', 'cons_conf_idx', 'nr_employed', 'age_buckets']\n",
            "['job', 'marital', 'education', 'default', 'housing', 'loan', 'contact', 'month', 'day_of_week', 'poutcome', 'pdays_label']\n"
          ]
        }
      ],
      "source": [
        "# Numeric variables\n",
        "numeric_features = [feature[0] for feature in df.dtypes if (feature[1] == 'int' or feature[1] == 'double')]\n",
        "print(numeric_features)\n",
        "# Cateogrical variables\n",
        "categorical_features = [t[0] for t in df.dtypes if t[1] == 'string']\n",
        "categorical_features.remove('y')\n",
        "print(categorical_features)"
      ]
    },
    {
      "cell_type": "code",
      "execution_count": 142,
      "id": "24fac06e",
      "metadata": {
        "id": "24fac06e"
      },
      "outputs": [],
      "source": [
        "from pyspark.ml.feature import OneHotEncoder, StringIndexer, VectorAssembler\n",
        "from pyspark.ml.feature import StandardScaler\n",
        "\n",
        "categoricalColumns = categorical_features\n",
        "stages = []\n",
        "for categoricalCol in categoricalColumns:\n",
        "    stringIndexer = StringIndexer(inputCol = categoricalCol, outputCol = categoricalCol + 'Index')\n",
        "    encoder = OneHotEncoder(inputCols=[stringIndexer.getOutputCol()], outputCols=[categoricalCol + \"classVec\"])\n",
        "    stages += [stringIndexer, encoder]\n",
        "    \n",
        "label_stringIdx = StringIndexer(inputCol = 'y', outputCol = 'label')\n",
        "stages += [label_stringIdx]\n",
        "\n",
        "numericCols = numeric_features\n",
        "assemblerInputs = [c + \"classVec\" for c in categoricalColumns] + numericCols\n",
        "assembler = VectorAssembler(inputCols=assemblerInputs, outputCol=\"features\")\n",
        "stages += [assembler]\n",
        "\n",
        "\n",
        "\n",
        "scaler = StandardScaler(inputCol = \"features\",\n",
        "                        outputCol = \"scaledFeatures\",\n",
        "                        withStd = True,\n",
        "                        withMean = True)\n",
        "stages += [scaler]"
      ]
    },
    {
      "cell_type": "code",
      "execution_count": 143,
      "id": "89755deb",
      "metadata": {
        "colab": {
          "base_uri": "https://localhost:8080/"
        },
        "id": "89755deb",
        "outputId": "a1396398-3da4-4afa-aeca-f3b1bc91d9f9"
      },
      "outputs": [
        {
          "output_type": "execute_result",
          "data": {
            "text/plain": [
              "['job',\n",
              " 'marital',\n",
              " 'education',\n",
              " 'default',\n",
              " 'housing',\n",
              " 'loan',\n",
              " 'contact',\n",
              " 'month',\n",
              " 'day_of_week',\n",
              " 'duration',\n",
              " 'campaign',\n",
              " 'previous',\n",
              " 'poutcome',\n",
              " 'cons_price_idx',\n",
              " 'cons_conf_idx',\n",
              " 'nr_employed',\n",
              " 'age_buckets',\n",
              " 'pdays_label']"
            ]
          },
          "metadata": {},
          "execution_count": 143
        }
      ],
      "source": [
        "cols = df.columns\n",
        "cols.remove('y')\n",
        "cols"
      ]
    },
    {
      "cell_type": "code",
      "execution_count": 144,
      "id": "e6acbdaa",
      "metadata": {
        "colab": {
          "base_uri": "https://localhost:8080/"
        },
        "id": "e6acbdaa",
        "outputId": "f2a3f135-633e-405d-d9e3-d072fee53408"
      },
      "outputs": [
        {
          "output_type": "stream",
          "name": "stdout",
          "text": [
            "root\n",
            " |-- label: double (nullable = false)\n",
            " |-- scaledFeatures: vector (nullable = true)\n",
            "\n"
          ]
        }
      ],
      "source": [
        "from pyspark.ml import Pipeline\n",
        "pipeline = Pipeline(stages = stages)\n",
        "pipelineModel = pipeline.fit(df)\n",
        "df = pipelineModel.transform(df)\n",
        "selectedCols = ['label', 'scaledFeatures']\n",
        "df = df.select(selectedCols)\n",
        "df.printSchema()"
      ]
    },
    {
      "cell_type": "code",
      "execution_count": 145,
      "id": "e3b73975",
      "metadata": {
        "colab": {
          "base_uri": "https://localhost:8080/",
          "height": 191
        },
        "id": "e3b73975",
        "outputId": "5e2817c4-7f47-4a32-eb0f-827cee8b75d3"
      },
      "outputs": [
        {
          "output_type": "execute_result",
          "data": {
            "text/plain": [
              "                                                                0  \\\n",
              "label                                                         0.0   \n",
              "scaledFeatures  [-0.5820157595057507, -0.5383104552835672, -0....   \n",
              "\n",
              "                                                                1  \\\n",
              "label                                                         0.0   \n",
              "scaledFeatures  [-0.5820157595057507, -0.5383104552835672, -0....   \n",
              "\n",
              "                                                                2  \\\n",
              "label                                                         0.0   \n",
              "scaledFeatures  [-0.5820157595057507, -0.5383104552835672, -0....   \n",
              "\n",
              "                                                                3  \\\n",
              "label                                                         0.0   \n",
              "scaledFeatures  [1.7181248183605764, -0.5383104552835672, -0.4...   \n",
              "\n",
              "                                                                4  \n",
              "label                                                         0.0  \n",
              "scaledFeatures  [-0.5820157595057507, -0.5383104552835672, -0....  "
            ],
            "text/html": [
              "\n",
              "  <div id=\"df-a5104d81-559d-4011-88bf-4d6dfc41e834\">\n",
              "    <div class=\"colab-df-container\">\n",
              "      <div>\n",
              "<style scoped>\n",
              "    .dataframe tbody tr th:only-of-type {\n",
              "        vertical-align: middle;\n",
              "    }\n",
              "\n",
              "    .dataframe tbody tr th {\n",
              "        vertical-align: top;\n",
              "    }\n",
              "\n",
              "    .dataframe thead th {\n",
              "        text-align: right;\n",
              "    }\n",
              "</style>\n",
              "<table border=\"1\" class=\"dataframe\">\n",
              "  <thead>\n",
              "    <tr style=\"text-align: right;\">\n",
              "      <th></th>\n",
              "      <th>0</th>\n",
              "      <th>1</th>\n",
              "      <th>2</th>\n",
              "      <th>3</th>\n",
              "      <th>4</th>\n",
              "    </tr>\n",
              "  </thead>\n",
              "  <tbody>\n",
              "    <tr>\n",
              "      <th>label</th>\n",
              "      <td>0.0</td>\n",
              "      <td>0.0</td>\n",
              "      <td>0.0</td>\n",
              "      <td>0.0</td>\n",
              "      <td>0.0</td>\n",
              "    </tr>\n",
              "    <tr>\n",
              "      <th>scaledFeatures</th>\n",
              "      <td>[-0.5820157595057507, -0.5383104552835672, -0....</td>\n",
              "      <td>[-0.5820157595057507, -0.5383104552835672, -0....</td>\n",
              "      <td>[-0.5820157595057507, -0.5383104552835672, -0....</td>\n",
              "      <td>[1.7181248183605764, -0.5383104552835672, -0.4...</td>\n",
              "      <td>[-0.5820157595057507, -0.5383104552835672, -0....</td>\n",
              "    </tr>\n",
              "  </tbody>\n",
              "</table>\n",
              "</div>\n",
              "      <button class=\"colab-df-convert\" onclick=\"convertToInteractive('df-a5104d81-559d-4011-88bf-4d6dfc41e834')\"\n",
              "              title=\"Convert this dataframe to an interactive table.\"\n",
              "              style=\"display:none;\">\n",
              "        \n",
              "  <svg xmlns=\"http://www.w3.org/2000/svg\" height=\"24px\"viewBox=\"0 0 24 24\"\n",
              "       width=\"24px\">\n",
              "    <path d=\"M0 0h24v24H0V0z\" fill=\"none\"/>\n",
              "    <path d=\"M18.56 5.44l.94 2.06.94-2.06 2.06-.94-2.06-.94-.94-2.06-.94 2.06-2.06.94zm-11 1L8.5 8.5l.94-2.06 2.06-.94-2.06-.94L8.5 2.5l-.94 2.06-2.06.94zm10 10l.94 2.06.94-2.06 2.06-.94-2.06-.94-.94-2.06-.94 2.06-2.06.94z\"/><path d=\"M17.41 7.96l-1.37-1.37c-.4-.4-.92-.59-1.43-.59-.52 0-1.04.2-1.43.59L10.3 9.45l-7.72 7.72c-.78.78-.78 2.05 0 2.83L4 21.41c.39.39.9.59 1.41.59.51 0 1.02-.2 1.41-.59l7.78-7.78 2.81-2.81c.8-.78.8-2.07 0-2.86zM5.41 20L4 18.59l7.72-7.72 1.47 1.35L5.41 20z\"/>\n",
              "  </svg>\n",
              "      </button>\n",
              "      \n",
              "  <style>\n",
              "    .colab-df-container {\n",
              "      display:flex;\n",
              "      flex-wrap:wrap;\n",
              "      gap: 12px;\n",
              "    }\n",
              "\n",
              "    .colab-df-convert {\n",
              "      background-color: #E8F0FE;\n",
              "      border: none;\n",
              "      border-radius: 50%;\n",
              "      cursor: pointer;\n",
              "      display: none;\n",
              "      fill: #1967D2;\n",
              "      height: 32px;\n",
              "      padding: 0 0 0 0;\n",
              "      width: 32px;\n",
              "    }\n",
              "\n",
              "    .colab-df-convert:hover {\n",
              "      background-color: #E2EBFA;\n",
              "      box-shadow: 0px 1px 2px rgba(60, 64, 67, 0.3), 0px 1px 3px 1px rgba(60, 64, 67, 0.15);\n",
              "      fill: #174EA6;\n",
              "    }\n",
              "\n",
              "    [theme=dark] .colab-df-convert {\n",
              "      background-color: #3B4455;\n",
              "      fill: #D2E3FC;\n",
              "    }\n",
              "\n",
              "    [theme=dark] .colab-df-convert:hover {\n",
              "      background-color: #434B5C;\n",
              "      box-shadow: 0px 1px 3px 1px rgba(0, 0, 0, 0.15);\n",
              "      filter: drop-shadow(0px 1px 2px rgba(0, 0, 0, 0.3));\n",
              "      fill: #FFFFFF;\n",
              "    }\n",
              "  </style>\n",
              "\n",
              "      <script>\n",
              "        const buttonEl =\n",
              "          document.querySelector('#df-a5104d81-559d-4011-88bf-4d6dfc41e834 button.colab-df-convert');\n",
              "        buttonEl.style.display =\n",
              "          google.colab.kernel.accessAllowed ? 'block' : 'none';\n",
              "\n",
              "        async function convertToInteractive(key) {\n",
              "          const element = document.querySelector('#df-a5104d81-559d-4011-88bf-4d6dfc41e834');\n",
              "          const dataTable =\n",
              "            await google.colab.kernel.invokeFunction('convertToInteractive',\n",
              "                                                     [key], {});\n",
              "          if (!dataTable) return;\n",
              "\n",
              "          const docLinkHtml = 'Like what you see? Visit the ' +\n",
              "            '<a target=\"_blank\" href=https://colab.research.google.com/notebooks/data_table.ipynb>data table notebook</a>'\n",
              "            + ' to learn more about interactive tables.';\n",
              "          element.innerHTML = '';\n",
              "          dataTable['output_type'] = 'display_data';\n",
              "          await google.colab.output.renderOutput(dataTable, element);\n",
              "          const docLink = document.createElement('div');\n",
              "          docLink.innerHTML = docLinkHtml;\n",
              "          element.appendChild(docLink);\n",
              "        }\n",
              "      </script>\n",
              "    </div>\n",
              "  </div>\n",
              "  "
            ]
          },
          "metadata": {},
          "execution_count": 145
        }
      ],
      "source": [
        "pd.DataFrame(df.take(5), columns=df.columns).transpose()"
      ]
    },
    {
      "cell_type": "code",
      "execution_count": 146,
      "id": "ea377180",
      "metadata": {
        "colab": {
          "base_uri": "https://localhost:8080/"
        },
        "id": "ea377180",
        "outputId": "3cca52c8-954c-4631-ac09-2b96561c81ce"
      },
      "outputs": [
        {
          "output_type": "stream",
          "name": "stdout",
          "text": [
            "Training Dataset Count: 28833\n",
            "Test Dataset Count: 12355\n"
          ]
        }
      ],
      "source": [
        "train, test = df.randomSplit([0.7, 0.3], seed = 2018)\n",
        "print(\"Training Dataset Count: \" + str(train.count()))\n",
        "print(\"Test Dataset Count: \" + str(test.count()))"
      ]
    },
    {
      "cell_type": "markdown",
      "id": "84975dc5",
      "metadata": {
        "id": "84975dc5"
      },
      "source": [
        "## Logistic Regression"
      ]
    },
    {
      "cell_type": "code",
      "execution_count": 63,
      "id": "4967f9c9",
      "metadata": {
        "colab": {
          "base_uri": "https://localhost:8080/"
        },
        "id": "4967f9c9",
        "outputId": "5723e87b-1744-4385-e957-1a9a9f209dd4"
      },
      "outputs": [
        {
          "output_type": "stream",
          "name": "stdout",
          "text": [
            "CrossValidatorModel_b46a9913f5f4\n",
            "Accuracy: 0.9385966990280151\n"
          ]
        },
        {
          "output_type": "stream",
          "name": "stderr",
          "text": [
            "/usr/local/lib/python3.7/dist-packages/pyspark/sql/context.py:159: FutureWarning: Deprecated in 3.0.0. Use SparkSession.builder.getOrCreate() instead.\n",
            "  FutureWarning,\n"
          ]
        },
        {
          "output_type": "stream",
          "name": "stdout",
          "text": [
            "AUC: 0.8062668033207533\n",
            "PR: 0.2992639894612505\n"
          ]
        }
      ],
      "source": [
        "from pyspark.ml.classification import LogisticRegression\n",
        "from pyspark.ml.tuning import ParamGridBuilder, CrossValidator\n",
        "from pyspark.ml.evaluation import BinaryClassificationEvaluator\n",
        "from pyspark.mllib.evaluation import BinaryClassificationMetrics\n",
        "\n",
        "evaluator = BinaryClassificationEvaluator()\n",
        "\n",
        "from pyspark.ml.classification import LogisticRegression\n",
        "lr = LogisticRegression(featuresCol = 'scaledFeatures', labelCol = 'label', maxIter=10)\n",
        "\n",
        "lrparamGrid = (ParamGridBuilder()\n",
        "             .addGrid(lr.regParam, [0.01, 0.1])\n",
        "             .addGrid(lr.elasticNetParam, [0.0, 0.25])\n",
        "             .addGrid(lr.maxIter, [1, 5, 10])\n",
        "             .build())\n",
        "\n",
        "lrevaluator = BinaryClassificationEvaluator(rawPredictionCol=\"rawPrediction\", metricName = \"areaUnderROC\")\n",
        "\n",
        "# Create 5-fold CrossValidator\n",
        "lrcv = CrossValidator(estimator = lr,\n",
        "                    estimatorParamMaps = lrparamGrid,\n",
        "                    evaluator = lrevaluator,\n",
        "                    numFolds = 5)\n",
        "\n",
        "lrcvModel = lrcv.fit(train)\n",
        "print(lrcvModel)\n",
        "\n",
        "lrpredictions = lrcvModel.transform(test)\n",
        "\n",
        "print('Accuracy:', lrevaluator.evaluate(lrpredictions))\n",
        "print('AUC:', BinaryClassificationMetrics(lrpredictions['label','prediction'].rdd).areaUnderROC)\n",
        "print('PR:', BinaryClassificationMetrics(lrpredictions['label','prediction'].rdd).areaUnderPR)\n",
        "# lrModel = lr.fit(train)\n",
        "\n",
        "# lrpredictions = lrModel.transform(test)\n",
        "# trainingSummary = lrModel.summary\n",
        "\n",
        "# print(\"Test Area Under ROC: \" + str(evaluator.evaluate(lrpredictions, {evaluator.metricName: \"areaUnderROC\"})))"
      ]
    },
    {
      "cell_type": "markdown",
      "id": "c7540295",
      "metadata": {
        "id": "c7540295"
      },
      "source": [
        "## Decision tree"
      ]
    },
    {
      "cell_type": "code",
      "execution_count": 66,
      "id": "4797b52a",
      "metadata": {
        "colab": {
          "base_uri": "https://localhost:8080/"
        },
        "id": "4797b52a",
        "outputId": "482d3f4f-7450-4321-a765-650d7e85dab5"
      },
      "outputs": [
        {
          "output_type": "stream",
          "name": "stdout",
          "text": [
            "CrossValidatorModel_cc251adbf8a4\n",
            "Accuracy: 0.8224819363390667\n",
            "AUC: 0.802763583657338\n",
            "PR: 0.37598035635845994\n"
          ]
        }
      ],
      "source": [
        "from pyspark.ml.classification import DecisionTreeClassifier\n",
        "from pyspark.ml.tuning import ParamGridBuilder, CrossValidator\n",
        "from pyspark.ml.evaluation import BinaryClassificationEvaluator\n",
        "\n",
        "\n",
        "dt = DecisionTreeClassifier(featuresCol = 'scaledFeatures', labelCol = 'label', maxDepth = 3)\n",
        "\n",
        "dtparamGrid = (ParamGridBuilder()\n",
        "             .addGrid(dt.maxDepth, [2, 5, 10])\n",
        "             .addGrid(dt.maxBins, [10, 20])\n",
        "             .build())\n",
        "\n",
        "dtevaluator = BinaryClassificationEvaluator(rawPredictionCol=\"rawPrediction\")\n",
        "\n",
        "# Create 5-fold CrossValidator\n",
        "dtcv = CrossValidator(estimator = dt,\n",
        "                      estimatorParamMaps = dtparamGrid,\n",
        "                      evaluator = dtevaluator,\n",
        "                      numFolds = 5)\n",
        "\n",
        "dtcvModel = dtcv.fit(train)\n",
        "print(dtcvModel)\n",
        "\n",
        "dtpredictions = dtcvModel.transform(test)\n",
        "#predictions.select('label', 'rawPrediction', 'prediction', 'probability').show(10)\n",
        "\n",
        "\n",
        "print('Accuracy:', dtevaluator.evaluate(dtpredictions))\n",
        "print('AUC:', BinaryClassificationMetrics(dtpredictions['label','prediction'].rdd).areaUnderROC)\n",
        "print('PR:', BinaryClassificationMetrics(dtpredictions['label','prediction'].rdd).areaUnderPR)"
      ]
    },
    {
      "cell_type": "markdown",
      "id": "3bb0026e",
      "metadata": {
        "id": "3bb0026e"
      },
      "source": [
        "## Random Forest Classifier"
      ]
    },
    {
      "cell_type": "code",
      "execution_count": 68,
      "id": "755fa362",
      "metadata": {
        "colab": {
          "base_uri": "https://localhost:8080/"
        },
        "id": "755fa362",
        "outputId": "6ab323be-5cb1-4112-aa33-00fb3ce7e188"
      },
      "outputs": [
        {
          "output_type": "stream",
          "name": "stdout",
          "text": [
            "CrossValidatorModel_bfdab30268a1\n",
            "Accuracy: 0.9413142530328694\n",
            "AUC: 0.8259026756651459\n",
            "PR: 0.2639758123030512\n"
          ]
        }
      ],
      "source": [
        "from pyspark.ml.classification import RandomForestClassifier\n",
        "from pyspark.ml.tuning import ParamGridBuilder, CrossValidator\n",
        "from pyspark.ml.evaluation import BinaryClassificationEvaluator\n",
        "\n",
        "\n",
        "rf = RandomForestClassifier(labelCol=\"label\", featuresCol=\"scaledFeatures\")\n",
        "\n",
        "rfparamGrid = (ParamGridBuilder()\n",
        "\n",
        "               .addGrid(rf.maxDepth, [2, 5, 10])\n",
        "\n",
        "               .addGrid(rf.maxBins, [5, 10, 20])\n",
        "\n",
        "               .addGrid(rf.numTrees, [5, 20, 50])\n",
        "             .build())\n",
        "\n",
        "rfevaluator = BinaryClassificationEvaluator(rawPredictionCol=\"rawPrediction\")\n",
        "\n",
        "# Create 5-fold CrossValidator\n",
        "rfcv = CrossValidator(estimator = rf,\n",
        "                      estimatorParamMaps = rfparamGrid,\n",
        "                      evaluator = rfevaluator,\n",
        "                      numFolds = 5)\n",
        "\n",
        "rfcvModel = rfcv.fit(train)\n",
        "print(rfcvModel)\n",
        "\n",
        "rfpredictions = rfcvModel.transform(test)\n",
        "\n",
        "print('Accuracy:', rfevaluator.evaluate(rfpredictions))\n",
        "print('AUC:', BinaryClassificationMetrics(rfpredictions['label','prediction'].rdd).areaUnderROC)\n",
        "print('PR:', BinaryClassificationMetrics(rfpredictions['label','prediction'].rdd).areaUnderPR)"
      ]
    },
    {
      "cell_type": "markdown",
      "id": "4eb8599c",
      "metadata": {
        "id": "4eb8599c"
      },
      "source": [
        "## Gradient-Boosted Tree Classifier"
      ]
    },
    {
      "cell_type": "code",
      "execution_count": 69,
      "id": "8b334eaf",
      "metadata": {
        "colab": {
          "base_uri": "https://localhost:8080/"
        },
        "id": "8b334eaf",
        "outputId": "f2eddbf0-ec42-4d15-abda-91e28579871d"
      },
      "outputs": [
        {
          "output_type": "stream",
          "name": "stdout",
          "text": [
            "CrossValidatorModel_d79681a181e0\n",
            "Accuracy: 0.9450036171576403\n",
            "AUC: 0.8058665721544137\n",
            "PR: 0.4114150568972306\n"
          ]
        }
      ],
      "source": [
        "from pyspark.ml.classification import GBTClassifier\n",
        "from pyspark.ml.tuning import ParamGridBuilder, CrossValidator\n",
        "from pyspark.ml.evaluation import BinaryClassificationEvaluator\n",
        "\n",
        "gb = GBTClassifier(labelCol=\"label\", featuresCol=\"scaledFeatures\")\n",
        "\n",
        "gbparamGrid = (ParamGridBuilder()\n",
        "             .addGrid(gb.maxDepth, [2, 5])\n",
        "             .addGrid(gb.maxBins, [10, 20])\n",
        "             .addGrid(gb.maxIter, [5, 10])\n",
        "             .build())\n",
        "\n",
        "gbevaluator = BinaryClassificationEvaluator(rawPredictionCol=\"rawPrediction\")\n",
        "\n",
        "# Create 5-fold CrossValidator\n",
        "gbcv = CrossValidator(estimator = gb,\n",
        "                      estimatorParamMaps = gbparamGrid,\n",
        "                      evaluator = gbevaluator,\n",
        "                      numFolds = 5)\n",
        "\n",
        "gbcvModel = gbcv.fit(train)\n",
        "print(gbcvModel)\n",
        "\n",
        "gbpredictions = gbcvModel.transform(test)\n",
        "\n",
        "print('Accuracy:', gbevaluator.evaluate(gbpredictions))\n",
        "print('AUC:', BinaryClassificationMetrics(gbpredictions['label','prediction'].rdd).areaUnderROC)\n",
        "print('PR:', BinaryClassificationMetrics(gbpredictions['label','prediction'].rdd).areaUnderPR)"
      ]
    },
    {
      "cell_type": "markdown",
      "id": "ad6ef97b",
      "metadata": {
        "id": "ad6ef97b"
      },
      "source": [
        "## Linear Support Vector Classification"
      ]
    },
    {
      "cell_type": "code",
      "execution_count": 75,
      "id": "8d7e3b87",
      "metadata": {
        "colab": {
          "base_uri": "https://localhost:8080/"
        },
        "id": "8d7e3b87",
        "outputId": "743f9ad4-cddf-482c-b508-b556bc0c5281"
      },
      "outputs": [
        {
          "output_type": "stream",
          "name": "stdout",
          "text": [
            "CrossValidatorModel_987269e7e1b1\n",
            "Accuracy: 0.9340574525422172\n"
          ]
        },
        {
          "output_type": "stream",
          "name": "stderr",
          "text": [
            "/usr/local/lib/python3.7/dist-packages/pyspark/sql/context.py:159: FutureWarning: Deprecated in 3.0.0. Use SparkSession.builder.getOrCreate() instead.\n",
            "  FutureWarning,\n"
          ]
        },
        {
          "output_type": "stream",
          "name": "stdout",
          "text": [
            "AUC: 0.7787659138609258\n",
            "PR: 0.22276513840745887\n"
          ]
        }
      ],
      "source": [
        "from pyspark.ml.tuning import ParamGridBuilder, CrossValidator\n",
        "from pyspark.ml.evaluation import BinaryClassificationEvaluator\n",
        "from pyspark.mllib.evaluation import BinaryClassificationMetrics\n",
        "from pyspark.ml.classification import LinearSVC\n",
        "\n",
        "lsvc = LinearSVC(featuresCol='scaledFeatures', \\\n",
        "                 labelCol='label')\n",
        "\n",
        "lsvcparamGrid = (ParamGridBuilder()\n",
        "             .addGrid(lsvc.maxIter, [10, 20])\n",
        "             .addGrid(lsvc.regParam, [0.01, 0.1])\n",
        "             .build())\n",
        "\n",
        "lsvcevaluator = BinaryClassificationEvaluator(rawPredictionCol=\"rawPrediction\")\n",
        "\n",
        "# Create 5-fold CrossValidator\n",
        "lsvccv = CrossValidator(estimator = lsvc,\n",
        "                      estimatorParamMaps = lsvcparamGrid,\n",
        "                      evaluator = lsvcevaluator,\n",
        "                      numFolds = 5)\n",
        "\n",
        "lsvcModel = lsvccv.fit(train)\n",
        "print(lsvcModel)\n",
        "\n",
        "lsvcpredictions = lsvcModel.transform(test)\n",
        "\n",
        "print('Accuracy:', gbevaluator.evaluate(lsvcpredictions))\n",
        "print('AUC:', BinaryClassificationMetrics(lsvcpredictions['label','prediction'].rdd).areaUnderROC)\n",
        "print('PR:', BinaryClassificationMetrics(lsvcpredictions['label','prediction'].rdd).areaUnderPR)\n"
      ]
    },
    {
      "cell_type": "markdown",
      "source": [
        "## Confusion Matrix for Best model"
      ],
      "metadata": {
        "id": "K4WFo3_53Lbu"
      },
      "id": "K4WFo3_53Lbu"
    },
    {
      "cell_type": "code",
      "source": [
        "class_names=[1.0,0.0]\n",
        "import itertools\n",
        "def plot_confusion_matrix(cm, classes,\n",
        "                          normalize=False,\n",
        "                          title='Confusion matrix',\n",
        "                          cmap=plt.cm.Blues):\n",
        "    \"\"\"\n",
        "    This function prints and plots the confusion matrix.\n",
        "    Normalization can be applied by setting `normalize=True`.\n",
        "    \"\"\"\n",
        "    if normalize:\n",
        "        cm = cm.astype('float') / cm.sum(axis=1)[:, np.newaxis]\n",
        "        print(\"Normalized confusion matrix\")\n",
        "    else:\n",
        "        print('Confusion matrix, without normalization')\n",
        "\n",
        "    print(cm)\n",
        "\n",
        "    plt.imshow(cm, interpolation='nearest', cmap=cmap)\n",
        "    plt.title(title)\n",
        "    plt.colorbar()\n",
        "    tick_marks = np.arange(len(classes))\n",
        "    plt.xticks(tick_marks, classes, rotation=45)\n",
        "    plt.yticks(tick_marks, classes)\n",
        "\n",
        "    fmt = '.2f' if normalize else 'd'\n",
        "    thresh = cm.max() / 2.\n",
        "    for i, j in itertools.product(range(cm.shape[0]), range(cm.shape[1])):\n",
        "        plt.text(j, i, format(cm[i, j], fmt),\n",
        "                 horizontalalignment=\"center\",\n",
        "                 color=\"white\" if cm[i, j] > thresh else \"black\")\n",
        "\n",
        "    plt.tight_layout()\n",
        "    plt.ylabel('True label')\n",
        "    plt.xlabel('Predicted label')"
      ],
      "metadata": {
        "id": "Frcs8p8k3PTy"
      },
      "id": "Frcs8p8k3PTy",
      "execution_count": 88,
      "outputs": []
    },
    {
      "cell_type": "code",
      "source": [
        "y_true = rfpredictions.select(\"label\")\n",
        "y_true = y_true.toPandas()\n",
        "\n",
        "y_pred = rfpredictions.select(\"prediction\")\n",
        "y_pred = y_pred.toPandas()\n",
        "\n",
        "cnf_matrix = confusion_matrix(y_true, y_pred,labels=class_names)\n",
        "#cnf_matrix\n",
        "plt.figure()\n",
        "plot_confusion_matrix(cnf_matrix, classes=class_names,\n",
        "                      title='Confusion matrix')\n",
        "plt.show()"
      ],
      "metadata": {
        "colab": {
          "base_uri": "https://localhost:8080/",
          "height": 362
        },
        "id": "jYzmNzOA3QrD",
        "outputId": "9d1145d0-7ca4-4f7b-cfbc-881665c6b47b"
      },
      "id": "jYzmNzOA3QrD",
      "execution_count": 89,
      "outputs": [
        {
          "output_type": "stream",
          "name": "stdout",
          "text": [
            "Confusion matrix, without normalization\n",
            "[[  417   986]\n",
            " [  150 10802]]\n"
          ]
        },
        {
          "output_type": "display_data",
          "data": {
            "text/plain": [
              "<Figure size 432x288 with 2 Axes>"
            ],
            "image/png": "[encoded data removed]"
          },
          "metadata": {}
        }
      ]
    },
    {
      "cell_type": "markdown",
      "source": [
        "## ROC-AUC Plot"
      ],
      "metadata": {
        "id": "HvlTnoKp37oO"
      },
      "id": "HvlTnoKp37oO"
    },
    {
      "cell_type": "code",
      "source": [
        "trainingSummary = rfModel.summary\n",
        "roc = trainingSummary.roc.toPandas()\n",
        "plt.plot(roc['FPR'],roc['TPR'])\n",
        "plt.ylabel('False Positive Rate')\n",
        "plt.xlabel('True Positive Rate')\n",
        "plt.title('ROC Curve')\n",
        "plt.show()\n",
        "print('Training set areaUnderROC: ' + str(trainingSummary.areaUnderROC))"
      ],
      "metadata": {
        "colab": {
          "base_uri": "https://localhost:8080/",
          "height": 318
        },
        "id": "lA5oOAJl3-4d",
        "outputId": "7405fce2-5d99-40ae-d6e8-36ab0a1515d4"
      },
      "id": "lA5oOAJl3-4d",
      "execution_count": 92,
      "outputs": [
        {
          "output_type": "display_data",
          "data": {
            "text/plain": [
              "<Figure size 432x288 with 1 Axes>"
            ],
            "image/png": "[encoded data removed]"
          },
          "metadata": {}
        },
        {
          "output_type": "stream",
          "name": "stdout",
          "text": [
            "Training set areaUnderROC: 0.912952258623975\n"
          ]
        }
      ]
    },
    {
      "cell_type": "code",
      "source": [],
      "metadata": {
        "id": "6QSuMK7-_kjn"
      },
      "id": "6QSuMK7-_kjn",
      "execution_count": null,
      "outputs": []
    },
    {
      "cell_type": "markdown",
      "source": [
        "# K-means clustering"
      ],
      "metadata": {
        "id": "Ywur646i_lVq"
      },
      "id": "Ywur646i_lVq"
    },
    {
      "cell_type": "code",
      "source": [
        "from pyspark.ml.clustering import KMeans\n",
        "from pyspark.ml.evaluation import ClusteringEvaluator\n",
        "\n",
        "silhouette_score=[]\n",
        "evaluator = ClusteringEvaluator(predictionCol='prediction', featuresCol='scaledFeatures', \\\n",
        "                                metricName='silhouette', distanceMeasure='squaredEuclidean')\n",
        "for i in range(2,10):\n",
        "    \n",
        "    KMeans_algo=KMeans(featuresCol='scaledFeatures', k=i)\n",
        "    \n",
        "    KMeans_fit=KMeans_algo.fit(df)\n",
        "    \n",
        "    output=KMeans_fit.transform(df)\n",
        "    \n",
        "    \n",
        "    \n",
        "    score=evaluator.evaluate(output)\n",
        "    \n",
        "    silhouette_score.append(score)\n",
        "    \n",
        "    print(\"Silhouette Score:\",score)"
      ],
      "metadata": {
        "colab": {
          "base_uri": "https://localhost:8080/"
        },
        "id": "hBZe-kg1_neR",
        "outputId": "7c562727-51b3-43de-8f04-2a9faf97f44a"
      },
      "id": "hBZe-kg1_neR",
      "execution_count": 147,
      "outputs": [
        {
          "output_type": "stream",
          "name": "stdout",
          "text": [
            "Silhouette Score: 0.15158322801319687\n",
            "Silhouette Score: 0.0895306702752686\n",
            "Silhouette Score: 0.15485066861124316\n",
            "Silhouette Score: 0.1075634363545891\n",
            "Silhouette Score: 0.10865610616736057\n",
            "Silhouette Score: 0.11115960162660989\n",
            "Silhouette Score: 0.11677307984281411\n",
            "Silhouette Score: 0.09594631336755072\n"
          ]
        }
      ]
    },
    {
      "cell_type": "code",
      "source": [
        "#Visualizing the silhouette scores in a plot\n",
        "import matplotlib.pyplot as plt\n",
        "fig, ax = plt.subplots(1,1, figsize =(8,6))\n",
        "ax.plot(range(2,10),silhouette_score)\n",
        "ax.set_xlabel('k')\n",
        "ax.set_ylabel('cost')"
      ],
      "metadata": {
        "colab": {
          "base_uri": "https://localhost:8080/",
          "height": 411
        },
        "id": "3JE8hfIb_2qX",
        "outputId": "3cba0b0e-946e-409c-b936-2d3f1644ecf5"
      },
      "id": "3JE8hfIb_2qX",
      "execution_count": 148,
      "outputs": [
        {
          "output_type": "execute_result",
          "data": {
            "text/plain": [
              "Text(0, 0.5, 'cost')"
            ]
          },
          "metadata": {},
          "execution_count": 148
        },
        {
          "output_type": "display_data",
          "data": {
            "text/plain": [
              "<Figure size 576x432 with 1 Axes>"
            ],
            "image/png": "[encoded data removed]"
          },
          "metadata": {}
        }
      ]
    },
    {
      "cell_type": "code",
      "source": [
        "from pyspark.ml.clustering import KMeans\n",
        "from pyspark.ml.evaluation import ClusteringEvaluator\n",
        "\n",
        "KMeans_=KMeans(featuresCol='scaledFeatures', k=4) \n",
        "KMeans_Model=KMeans_.fit(df)\n",
        "KMeans_Assignments=KMeans_Model.transform(df)"
      ],
      "metadata": {
        "id": "3A8S8X0v_4y6"
      },
      "id": "3A8S8X0v_4y6",
      "execution_count": 149,
      "outputs": []
    },
    {
      "cell_type": "code",
      "source": [
        "KMeans_Assignments.groupBy('prediction').count().show()"
      ],
      "metadata": {
        "colab": {
          "base_uri": "https://localhost:8080/"
        },
        "id": "eS_77rkl_9SA",
        "outputId": "6f8ef2ab-00d8-4ee7-e799-9dd2e638783f"
      },
      "id": "eS_77rkl_9SA",
      "execution_count": 150,
      "outputs": [
        {
          "output_type": "stream",
          "name": "stdout",
          "text": [
            "+----------+-----+\n",
            "|prediction|count|\n",
            "+----------+-----+\n",
            "|         1|  546|\n",
            "|         3|28695|\n",
            "|         2|10509|\n",
            "|         0| 1438|\n",
            "+----------+-----+\n",
            "\n"
          ]
        }
      ]
    },
    {
      "cell_type": "code",
      "source": [
        "from pyspark.ml.feature import PCA as PCAml\n",
        "pca = PCAml(k=2, inputCol=\"scaledFeatures\", outputCol=\"pca\")\n",
        "pca_model = pca.fit(df)\n",
        "pca_transformed = pca_model.transform(df)\n",
        "\n"
      ],
      "metadata": {
        "id": "_Qs1vt8_AAtl"
      },
      "id": "_Qs1vt8_AAtl",
      "execution_count": 151,
      "outputs": []
    },
    {
      "cell_type": "code",
      "source": [
        "import seaborn as sns\n",
        "import matplotlib.pyplot as plt\n",
        "import numpy as np\n",
        "\n",
        "x_pca = np.array(pca_transformed.rdd.map(lambda row: row.pca).collect())\n",
        "\n",
        "cluster_assignment = np.array(KMeans_Assignments.rdd.map(lambda row: row.prediction).collect()).reshape(-1,1)\n",
        "\n",
        "pca_data = np.hstack((x_pca,cluster_assignment))\n",
        "\n",
        "pca_df = pd.DataFrame(data=pca_data, columns=(\"1st_principal\", \"2nd_principal\",\"cluster_assignment\"))\n",
        "sns.FacetGrid(pca_df,hue=\"cluster_assignment\", height=6).map(plt.scatter, '1st_principal', '2nd_principal' ).add_legend()\n",
        "\n",
        "plt.show()"
      ],
      "metadata": {
        "colab": {
          "base_uri": "https://localhost:8080/",
          "height": 437
        },
        "id": "vxvjaRfxAH45",
        "outputId": "e2401c9d-9b14-4c79-e59f-2ea2bb6a3c99"
      },
      "id": "vxvjaRfxAH45",
      "execution_count": 152,
      "outputs": [
        {
          "output_type": "display_data",
          "data": {
            "text/plain": [
              "<Figure size 558.175x432 with 1 Axes>"
            ],
            "image/png": "[encoded data removed]"
          },
          "metadata": {}
        }
      ]
    },
    {
      "cell_type": "markdown",
      "source": [
        "## Save and load model"
      ],
      "metadata": {
        "id": "NXjTiSaW4tBb"
      },
      "id": "NXjTiSaW4tBb"
    },
    {
      "cell_type": "code",
      "source": [
        "bestModel = rfcvModel.bestModel\n",
        "bestModel\n",
        "\n",
        "\n",
        "rf1 = RandomForestClassifier(labelCol=\"label\", featuresCol=\"scaledFeatures\",numTrees=50)\n",
        "rfModel1 = rf1.fit(train)\n",
        "rfModel1.save(\"/finalModel\")\n",
        "pipelineModel = rfModel1.load(\"/finalModel\")\n",
        "train = pipelineModel.transform(train)\n"
      ],
      "metadata": {
        "id": "JRxB0lwI8CsQ"
      },
      "id": "JRxB0lwI8CsQ",
      "execution_count": 118,
      "outputs": []
    },
    {
      "cell_type": "code",
      "source": [
        "rfModel1.save(\"/content/drive/MyDrive/Mini Project 2/ChampionModel\")\n",
        "\n",
        "\n"
      ],
      "metadata": {
        "id": "4bgjfrlN9jBB"
      },
      "id": "4bgjfrlN9jBB",
      "execution_count": 122,
      "outputs": []
    },
    {
      "cell_type": "markdown",
      "id": "7c0ffdd7",
      "metadata": {
        "id": "7c0ffdd7"
      },
      "source": [
        "## Feature Importance"
      ]
    },
    {
      "cell_type": "code",
      "execution_count": null,
      "id": "ff485994",
      "metadata": {
        "id": "ff485994"
      },
      "outputs": [],
      "source": [
        "rf = RandomForestClassifier(labelCol=\"label\", featuresCol=\"scaledFeatures\")\n",
        "rfModel = rf.fit(train)\n",
        "\n",
        "## Gini-Based Method for Gradient Boosted Tree\n",
        "def ExtractFeatureImportance(featureImp, dataset, featuresCol):\n",
        "    list_extract = []\n",
        "    for i in dataset.schema[featuresCol].metadata[\"ml_attr\"][\"attrs\"]:\n",
        "        list_extract = list_extract + dataset.schema[featuresCol].metadata[\"ml_attr\"][\"attrs\"][i]\n",
        "    varlist = pd.DataFrame(list_extract)\n",
        "    varlist['score'] = varlist['idx'].apply(lambda x: featureImp[x])\n",
        "    return(varlist.sort_values('score', ascending = False))\n",
        "  \n",
        "  \n",
        "#ExtractFeatureImportance(model.stages[-1].featureImportances, dataset, \"features\")\n",
        "dataset_fi = ExtractFeatureImportance(rfModel.featureImportances, df, \"scaledFeatures\")\n",
        "dataset_fi = sqlContext.createDataFrame(dataset_fi)\n",
        "display(dataset_fi)\n",
        "\n",
        "dataset_fi_pd = dataset_fi.toPandas()\n",
        "dataset_fi_pd.head(10)"
      ]
    }
  ],
  "metadata": {
    "kernelspec": {
      "display_name": "Python 3 (ipykernel)",
      "language": "python",
      "name": "python3"
    },
    "language_info": {
      "codemirror_mode": {
        "name": "ipython",
        "version": 3
      },
      "file_extension": ".py",
      "mimetype": "text/x-python",
      "name": "python",
      "nbconvert_exporter": "python",
      "pygments_lexer": "ipython3",
      "version": "3.9.7"
    },
    "colab": {
      "provenance": []
    }
  },
  "nbformat": 4,
  "nbformat_minor": 5
}